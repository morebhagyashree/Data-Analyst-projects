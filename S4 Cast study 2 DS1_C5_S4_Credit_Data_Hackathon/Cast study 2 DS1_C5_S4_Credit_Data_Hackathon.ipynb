{
 "cells": [
  {
   "cell_type": "markdown",
   "id": "544b66b4",
   "metadata": {},
   "source": [
    "# EDA\n",
    "\n",
    "            \n",
    "--------------------------------------------\n",
    "LEVEL 0 ANALYSIS  --UNDERSTANDING ABOUT DATA\n",
    "LEVEL 1 ANALYSIS –UNIVARATE ANALYSIS\n",
    "LEVEL 2 ANALYSIS – BIVARATE ANALYSIS\n",
    "LEVEL 3 ANALYSIS -- MULTIVARATE ANALYSIS\n",
    "\n",
    "--Right set of  question\n",
    "-code\n",
    "-o/p\n",
    "-interpterion\n",
    "------------------------------\n",
    "Final conclusion"
   ]
  },
  {
   "cell_type": "code",
   "execution_count": null,
   "id": "f7fc0ca0",
   "metadata": {},
   "outputs": [],
   "source": [
    "Final conclusion:\n",
    "\n",
    "In Genral way-\n",
    "-92%  of client don't have payment difficulties\n",
    "-90% of client applied for cash loans and 10% apply for credit card loan(Revolving loans)\n",
    "-Female clients are more than Male clients applied for loan, 65% female and 34% male applied for loan\n",
    "-69% client have own house.\n",
    "-50% of clients are Laborers, 10% of clients are Sales staff, 9% of clients are Core staff,7% clients are Managers and 6% of clients are Drivers who applied for Loan.\n",
    "-64% of Female in Laborers who apply for loan.\n",
    "-In Laborers only 30% client have own Car.\n",
    "-81% clients are Unaccompanied when they applied for the loan. 13% clients with family when the applied for the loan\n",
    "-Married clients applyed  more for loan. and Female clients count are more than Male to applyed for loan.¶\n",
    "\n",
    "\"Now we focus on TARGET,Target variable (1 - client with payment difficulties: he/she had late payment more than X days on at least one of the first Y installments of the loan in our sample\"\n",
    "-8% of client with payment difficulties\n",
    "-There are 93% of clients applied for cash loans and 7% of clients for Revolving loans who have difficulties to pay loan\n",
    "-57% Female and 43% of Male clients who have difficulties to pay loans\n",
    "-Cash loans and Revolving loans both case have less number of  own cars but more number of own Houses.\n",
    "-Labores,sale_staff and driver Occupation have difficulties to pay loans\n",
    "-There are 50% of client have difficulties to pay loans whose work Experience is between 1 year to 4 years\n"
   ]
  },
  {
   "cell_type": "code",
   "execution_count": 1,
   "id": "08d48ceb",
   "metadata": {},
   "outputs": [],
   "source": [
    "import pandas as pd\n",
    "import numpy as np\n",
    "import matplotlib.pyplot as plt\n",
    "import seaborn as sb\n",
    "import warnings\n",
    "warnings.filterwarnings(\"ignore\")"
   ]
  },
  {
   "cell_type": "code",
   "execution_count": 2,
   "id": "3626ad90",
   "metadata": {
    "scrolled": true
   },
   "outputs": [
    {
     "data": {
      "text/html": [
       "<div>\n",
       "<style scoped>\n",
       "    .dataframe tbody tr th:only-of-type {\n",
       "        vertical-align: middle;\n",
       "    }\n",
       "\n",
       "    .dataframe tbody tr th {\n",
       "        vertical-align: top;\n",
       "    }\n",
       "\n",
       "    .dataframe thead th {\n",
       "        text-align: right;\n",
       "    }\n",
       "</style>\n",
       "<table border=\"1\" class=\"dataframe\">\n",
       "  <thead>\n",
       "    <tr style=\"text-align: right;\">\n",
       "      <th></th>\n",
       "      <th>SK_ID_CURR</th>\n",
       "      <th>TARGET</th>\n",
       "      <th>NAME_CONTRACT_TYPE</th>\n",
       "      <th>GENDER</th>\n",
       "      <th>Car</th>\n",
       "      <th>House</th>\n",
       "      <th>CNT_CHILDREN</th>\n",
       "      <th>AMT_INCOME_TOTAL</th>\n",
       "      <th>AMT_CREDIT</th>\n",
       "      <th>AMT_GOODS_PRICE</th>\n",
       "      <th>...</th>\n",
       "      <th>DAYS_EMPLOYED</th>\n",
       "      <th>MOBILE</th>\n",
       "      <th>WORK_PHONE</th>\n",
       "      <th>HOME_PHONE</th>\n",
       "      <th>MOBILE_REACHABLE</th>\n",
       "      <th>FLAG_EMAIL</th>\n",
       "      <th>OCCUPATION_TYPE</th>\n",
       "      <th>CNT_FAM_MEMBERS</th>\n",
       "      <th>APPLICATION_DAY</th>\n",
       "      <th>TOTAL_DOC_SUBMITTED</th>\n",
       "    </tr>\n",
       "  </thead>\n",
       "  <tbody>\n",
       "    <tr>\n",
       "      <th>0</th>\n",
       "      <td>100002</td>\n",
       "      <td>1</td>\n",
       "      <td>Cash loans</td>\n",
       "      <td>M</td>\n",
       "      <td>N</td>\n",
       "      <td>Y</td>\n",
       "      <td>0</td>\n",
       "      <td>202500.0</td>\n",
       "      <td>406597.5</td>\n",
       "      <td>351000.0</td>\n",
       "      <td>...</td>\n",
       "      <td>-637</td>\n",
       "      <td>1</td>\n",
       "      <td>1</td>\n",
       "      <td>0</td>\n",
       "      <td>1</td>\n",
       "      <td>0</td>\n",
       "      <td>Laborers</td>\n",
       "      <td>1.0</td>\n",
       "      <td>WEDNESDAY</td>\n",
       "      <td>1</td>\n",
       "    </tr>\n",
       "    <tr>\n",
       "      <th>1</th>\n",
       "      <td>100003</td>\n",
       "      <td>0</td>\n",
       "      <td>Cash loans</td>\n",
       "      <td>F</td>\n",
       "      <td>N</td>\n",
       "      <td>N</td>\n",
       "      <td>0</td>\n",
       "      <td>270000.0</td>\n",
       "      <td>1293502.5</td>\n",
       "      <td>1129500.0</td>\n",
       "      <td>...</td>\n",
       "      <td>-1188</td>\n",
       "      <td>1</td>\n",
       "      <td>1</td>\n",
       "      <td>0</td>\n",
       "      <td>1</td>\n",
       "      <td>0</td>\n",
       "      <td>Core staff</td>\n",
       "      <td>2.0</td>\n",
       "      <td>MONDAY</td>\n",
       "      <td>1</td>\n",
       "    </tr>\n",
       "    <tr>\n",
       "      <th>2</th>\n",
       "      <td>100004</td>\n",
       "      <td>0</td>\n",
       "      <td>Revolving loans</td>\n",
       "      <td>M</td>\n",
       "      <td>Y</td>\n",
       "      <td>Y</td>\n",
       "      <td>0</td>\n",
       "      <td>67500.0</td>\n",
       "      <td>135000.0</td>\n",
       "      <td>135000.0</td>\n",
       "      <td>...</td>\n",
       "      <td>-225</td>\n",
       "      <td>1</td>\n",
       "      <td>1</td>\n",
       "      <td>1</td>\n",
       "      <td>1</td>\n",
       "      <td>0</td>\n",
       "      <td>Laborers</td>\n",
       "      <td>1.0</td>\n",
       "      <td>MONDAY</td>\n",
       "      <td>0</td>\n",
       "    </tr>\n",
       "    <tr>\n",
       "      <th>3</th>\n",
       "      <td>100006</td>\n",
       "      <td>0</td>\n",
       "      <td>Cash loans</td>\n",
       "      <td>F</td>\n",
       "      <td>N</td>\n",
       "      <td>Y</td>\n",
       "      <td>0</td>\n",
       "      <td>135000.0</td>\n",
       "      <td>312682.5</td>\n",
       "      <td>297000.0</td>\n",
       "      <td>...</td>\n",
       "      <td>-3039</td>\n",
       "      <td>1</td>\n",
       "      <td>1</td>\n",
       "      <td>0</td>\n",
       "      <td>1</td>\n",
       "      <td>0</td>\n",
       "      <td>Laborers</td>\n",
       "      <td>2.0</td>\n",
       "      <td>WEDNESDAY</td>\n",
       "      <td>1</td>\n",
       "    </tr>\n",
       "    <tr>\n",
       "      <th>4</th>\n",
       "      <td>100007</td>\n",
       "      <td>0</td>\n",
       "      <td>Cash loans</td>\n",
       "      <td>M</td>\n",
       "      <td>N</td>\n",
       "      <td>Y</td>\n",
       "      <td>0</td>\n",
       "      <td>121500.0</td>\n",
       "      <td>513000.0</td>\n",
       "      <td>513000.0</td>\n",
       "      <td>...</td>\n",
       "      <td>-3038</td>\n",
       "      <td>1</td>\n",
       "      <td>1</td>\n",
       "      <td>0</td>\n",
       "      <td>1</td>\n",
       "      <td>0</td>\n",
       "      <td>Core staff</td>\n",
       "      <td>1.0</td>\n",
       "      <td>THURSDAY</td>\n",
       "      <td>1</td>\n",
       "    </tr>\n",
       "    <tr>\n",
       "      <th>...</th>\n",
       "      <td>...</td>\n",
       "      <td>...</td>\n",
       "      <td>...</td>\n",
       "      <td>...</td>\n",
       "      <td>...</td>\n",
       "      <td>...</td>\n",
       "      <td>...</td>\n",
       "      <td>...</td>\n",
       "      <td>...</td>\n",
       "      <td>...</td>\n",
       "      <td>...</td>\n",
       "      <td>...</td>\n",
       "      <td>...</td>\n",
       "      <td>...</td>\n",
       "      <td>...</td>\n",
       "      <td>...</td>\n",
       "      <td>...</td>\n",
       "      <td>...</td>\n",
       "      <td>...</td>\n",
       "      <td>...</td>\n",
       "      <td>...</td>\n",
       "    </tr>\n",
       "    <tr>\n",
       "      <th>99995</th>\n",
       "      <td>216086</td>\n",
       "      <td>0</td>\n",
       "      <td>Cash loans</td>\n",
       "      <td>F</td>\n",
       "      <td>N</td>\n",
       "      <td>Y</td>\n",
       "      <td>1</td>\n",
       "      <td>157500.0</td>\n",
       "      <td>755190.0</td>\n",
       "      <td>675000.0</td>\n",
       "      <td>...</td>\n",
       "      <td>-232</td>\n",
       "      <td>1</td>\n",
       "      <td>1</td>\n",
       "      <td>1</td>\n",
       "      <td>1</td>\n",
       "      <td>0</td>\n",
       "      <td>Sales staff</td>\n",
       "      <td>3.0</td>\n",
       "      <td>MONDAY</td>\n",
       "      <td>1</td>\n",
       "    </tr>\n",
       "    <tr>\n",
       "      <th>99996</th>\n",
       "      <td>216087</td>\n",
       "      <td>0</td>\n",
       "      <td>Cash loans</td>\n",
       "      <td>F</td>\n",
       "      <td>N</td>\n",
       "      <td>Y</td>\n",
       "      <td>1</td>\n",
       "      <td>225000.0</td>\n",
       "      <td>284400.0</td>\n",
       "      <td>225000.0</td>\n",
       "      <td>...</td>\n",
       "      <td>-182</td>\n",
       "      <td>1</td>\n",
       "      <td>1</td>\n",
       "      <td>0</td>\n",
       "      <td>1</td>\n",
       "      <td>0</td>\n",
       "      <td>Managers</td>\n",
       "      <td>3.0</td>\n",
       "      <td>TUESDAY</td>\n",
       "      <td>1</td>\n",
       "    </tr>\n",
       "    <tr>\n",
       "      <th>99997</th>\n",
       "      <td>216088</td>\n",
       "      <td>0</td>\n",
       "      <td>Cash loans</td>\n",
       "      <td>F</td>\n",
       "      <td>Y</td>\n",
       "      <td>Y</td>\n",
       "      <td>0</td>\n",
       "      <td>135000.0</td>\n",
       "      <td>1262583.0</td>\n",
       "      <td>1102500.0</td>\n",
       "      <td>...</td>\n",
       "      <td>-4805</td>\n",
       "      <td>1</td>\n",
       "      <td>1</td>\n",
       "      <td>0</td>\n",
       "      <td>1</td>\n",
       "      <td>0</td>\n",
       "      <td>Sales staff</td>\n",
       "      <td>2.0</td>\n",
       "      <td>TUESDAY</td>\n",
       "      <td>1</td>\n",
       "    </tr>\n",
       "    <tr>\n",
       "      <th>99998</th>\n",
       "      <td>216089</td>\n",
       "      <td>0</td>\n",
       "      <td>Cash loans</td>\n",
       "      <td>F</td>\n",
       "      <td>Y</td>\n",
       "      <td>N</td>\n",
       "      <td>0</td>\n",
       "      <td>135000.0</td>\n",
       "      <td>225000.0</td>\n",
       "      <td>225000.0</td>\n",
       "      <td>...</td>\n",
       "      <td>-340</td>\n",
       "      <td>1</td>\n",
       "      <td>1</td>\n",
       "      <td>0</td>\n",
       "      <td>1</td>\n",
       "      <td>0</td>\n",
       "      <td>Sales staff</td>\n",
       "      <td>2.0</td>\n",
       "      <td>FRIDAY</td>\n",
       "      <td>2</td>\n",
       "    </tr>\n",
       "    <tr>\n",
       "      <th>99999</th>\n",
       "      <td>216090</td>\n",
       "      <td>0</td>\n",
       "      <td>Revolving loans</td>\n",
       "      <td>M</td>\n",
       "      <td>Y</td>\n",
       "      <td>Y</td>\n",
       "      <td>0</td>\n",
       "      <td>202500.0</td>\n",
       "      <td>337500.0</td>\n",
       "      <td>337500.0</td>\n",
       "      <td>...</td>\n",
       "      <td>-3230</td>\n",
       "      <td>1</td>\n",
       "      <td>1</td>\n",
       "      <td>1</td>\n",
       "      <td>1</td>\n",
       "      <td>0</td>\n",
       "      <td>Drivers</td>\n",
       "      <td>2.0</td>\n",
       "      <td>SATURDAY</td>\n",
       "      <td>0</td>\n",
       "    </tr>\n",
       "  </tbody>\n",
       "</table>\n",
       "<p>100000 rows × 24 columns</p>\n",
       "</div>"
      ],
      "text/plain": [
       "       SK_ID_CURR  TARGET NAME_CONTRACT_TYPE GENDER Car House  CNT_CHILDREN  \\\n",
       "0          100002       1         Cash loans      M   N     Y             0   \n",
       "1          100003       0         Cash loans      F   N     N             0   \n",
       "2          100004       0    Revolving loans      M   Y     Y             0   \n",
       "3          100006       0         Cash loans      F   N     Y             0   \n",
       "4          100007       0         Cash loans      M   N     Y             0   \n",
       "...           ...     ...                ...    ...  ..   ...           ...   \n",
       "99995      216086       0         Cash loans      F   N     Y             1   \n",
       "99996      216087       0         Cash loans      F   N     Y             1   \n",
       "99997      216088       0         Cash loans      F   Y     Y             0   \n",
       "99998      216089       0         Cash loans      F   Y     N             0   \n",
       "99999      216090       0    Revolving loans      M   Y     Y             0   \n",
       "\n",
       "       AMT_INCOME_TOTAL  AMT_CREDIT  AMT_GOODS_PRICE  ... DAYS_EMPLOYED  \\\n",
       "0              202500.0    406597.5         351000.0  ...          -637   \n",
       "1              270000.0   1293502.5        1129500.0  ...         -1188   \n",
       "2               67500.0    135000.0         135000.0  ...          -225   \n",
       "3              135000.0    312682.5         297000.0  ...         -3039   \n",
       "4              121500.0    513000.0         513000.0  ...         -3038   \n",
       "...                 ...         ...              ...  ...           ...   \n",
       "99995          157500.0    755190.0         675000.0  ...          -232   \n",
       "99996          225000.0    284400.0         225000.0  ...          -182   \n",
       "99997          135000.0   1262583.0        1102500.0  ...         -4805   \n",
       "99998          135000.0    225000.0         225000.0  ...          -340   \n",
       "99999          202500.0    337500.0         337500.0  ...         -3230   \n",
       "\n",
       "      MOBILE WORK_PHONE HOME_PHONE  MOBILE_REACHABLE  FLAG_EMAIL  \\\n",
       "0          1          1          0                 1           0   \n",
       "1          1          1          0                 1           0   \n",
       "2          1          1          1                 1           0   \n",
       "3          1          1          0                 1           0   \n",
       "4          1          1          0                 1           0   \n",
       "...      ...        ...        ...               ...         ...   \n",
       "99995      1          1          1                 1           0   \n",
       "99996      1          1          0                 1           0   \n",
       "99997      1          1          0                 1           0   \n",
       "99998      1          1          0                 1           0   \n",
       "99999      1          1          1                 1           0   \n",
       "\n",
       "       OCCUPATION_TYPE  CNT_FAM_MEMBERS  APPLICATION_DAY  TOTAL_DOC_SUBMITTED  \n",
       "0             Laborers              1.0        WEDNESDAY                    1  \n",
       "1           Core staff              2.0           MONDAY                    1  \n",
       "2             Laborers              1.0           MONDAY                    0  \n",
       "3             Laborers              2.0        WEDNESDAY                    1  \n",
       "4           Core staff              1.0         THURSDAY                    1  \n",
       "...                ...              ...              ...                  ...  \n",
       "99995      Sales staff              3.0           MONDAY                    1  \n",
       "99996         Managers              3.0          TUESDAY                    1  \n",
       "99997      Sales staff              2.0          TUESDAY                    1  \n",
       "99998      Sales staff              2.0           FRIDAY                    2  \n",
       "99999          Drivers              2.0         SATURDAY                    0  \n",
       "\n",
       "[100000 rows x 24 columns]"
      ]
     },
     "execution_count": 2,
     "metadata": {},
     "output_type": "execute_result"
    }
   ],
   "source": [
    "df_credit_data=pd.read_csv(\"DS1_C5_S4_Credit_Data_Hackathon.csv\")\n",
    "df_credit_data"
   ]
  },
  {
   "cell_type": "markdown",
   "id": "efb3ecc1",
   "metadata": {},
   "source": [
    "## LEVEL 0 ANALYSIS --UNDERSTANDING ABOUT DATA"
   ]
  },
  {
   "cell_type": "code",
   "execution_count": 3,
   "id": "ec195e3a",
   "metadata": {},
   "outputs": [
    {
     "name": "stdout",
     "output_type": "stream",
     "text": [
      "<class 'pandas.core.frame.DataFrame'>\n",
      "RangeIndex: 100000 entries, 0 to 99999\n",
      "Data columns (total 24 columns):\n",
      " #   Column               Non-Null Count   Dtype  \n",
      "---  ------               --------------   -----  \n",
      " 0   SK_ID_CURR           100000 non-null  int64  \n",
      " 1   TARGET               100000 non-null  int64  \n",
      " 2   NAME_CONTRACT_TYPE   100000 non-null  object \n",
      " 3   GENDER               100000 non-null  object \n",
      " 4   Car                  100000 non-null  object \n",
      " 5   House                100000 non-null  object \n",
      " 6   CNT_CHILDREN         100000 non-null  int64  \n",
      " 7   AMT_INCOME_TOTAL     100000 non-null  float64\n",
      " 8   AMT_CREDIT           100000 non-null  float64\n",
      " 9   AMT_GOODS_PRICE      99919 non-null   float64\n",
      " 10  NAME_TYPE_SUITE      99595 non-null   object \n",
      " 11  NAME_INCOME_TYPE     100000 non-null  object \n",
      " 12  NAME_EDUCATION_TYPE  100000 non-null  object \n",
      " 13  NAME_FAMILY_STATUS   100000 non-null  object \n",
      " 14  DAYS_EMPLOYED        100000 non-null  int64  \n",
      " 15  MOBILE               100000 non-null  int64  \n",
      " 16  WORK_PHONE           100000 non-null  int64  \n",
      " 17  HOME_PHONE           100000 non-null  int64  \n",
      " 18  MOBILE_REACHABLE     100000 non-null  int64  \n",
      " 19  FLAG_EMAIL           100000 non-null  int64  \n",
      " 20  OCCUPATION_TYPE      68776 non-null   object \n",
      " 21  CNT_FAM_MEMBERS      99999 non-null   float64\n",
      " 22  APPLICATION_DAY      100000 non-null  object \n",
      " 23  TOTAL_DOC_SUBMITTED  100000 non-null  int64  \n",
      "dtypes: float64(4), int64(10), object(10)\n",
      "memory usage: 18.3+ MB\n"
     ]
    }
   ],
   "source": [
    "df_credit_data.info()"
   ]
  },
  {
   "cell_type": "code",
   "execution_count": 4,
   "id": "7ab1c6c1",
   "metadata": {},
   "outputs": [
    {
     "data": {
      "text/plain": [
       "SK_ID_CURR                 0\n",
       "TARGET                     0\n",
       "NAME_CONTRACT_TYPE         0\n",
       "GENDER                     0\n",
       "Car                        0\n",
       "House                      0\n",
       "CNT_CHILDREN               0\n",
       "AMT_INCOME_TOTAL           0\n",
       "AMT_CREDIT                 0\n",
       "AMT_GOODS_PRICE           81\n",
       "NAME_TYPE_SUITE          405\n",
       "NAME_INCOME_TYPE           0\n",
       "NAME_EDUCATION_TYPE        0\n",
       "NAME_FAMILY_STATUS         0\n",
       "DAYS_EMPLOYED              0\n",
       "MOBILE                     0\n",
       "WORK_PHONE                 0\n",
       "HOME_PHONE                 0\n",
       "MOBILE_REACHABLE           0\n",
       "FLAG_EMAIL                 0\n",
       "OCCUPATION_TYPE        31224\n",
       "CNT_FAM_MEMBERS            1\n",
       "APPLICATION_DAY            0\n",
       "TOTAL_DOC_SUBMITTED        0\n",
       "dtype: int64"
      ]
     },
     "execution_count": 4,
     "metadata": {},
     "output_type": "execute_result"
    }
   ],
   "source": [
    "df_credit_data.isnull().sum()"
   ]
  },
  {
   "cell_type": "code",
   "execution_count": 5,
   "id": "36aeea25",
   "metadata": {},
   "outputs": [
    {
     "data": {
      "text/plain": [
       "SK_ID_CURR               int64\n",
       "TARGET                   int64\n",
       "NAME_CONTRACT_TYPE      object\n",
       "GENDER                  object\n",
       "Car                     object\n",
       "House                   object\n",
       "CNT_CHILDREN             int64\n",
       "AMT_INCOME_TOTAL       float64\n",
       "AMT_CREDIT             float64\n",
       "AMT_GOODS_PRICE        float64\n",
       "NAME_TYPE_SUITE         object\n",
       "NAME_INCOME_TYPE        object\n",
       "NAME_EDUCATION_TYPE     object\n",
       "NAME_FAMILY_STATUS      object\n",
       "DAYS_EMPLOYED            int64\n",
       "MOBILE                   int64\n",
       "WORK_PHONE               int64\n",
       "HOME_PHONE               int64\n",
       "MOBILE_REACHABLE         int64\n",
       "FLAG_EMAIL               int64\n",
       "OCCUPATION_TYPE         object\n",
       "CNT_FAM_MEMBERS        float64\n",
       "APPLICATION_DAY         object\n",
       "TOTAL_DOC_SUBMITTED      int64\n",
       "dtype: object"
      ]
     },
     "execution_count": 5,
     "metadata": {},
     "output_type": "execute_result"
    }
   ],
   "source": [
    "df_credit_data.dtypes"
   ]
  },
  {
   "cell_type": "code",
   "execution_count": 6,
   "id": "5bf8613f",
   "metadata": {},
   "outputs": [
    {
     "data": {
      "text/html": [
       "<div>\n",
       "<style scoped>\n",
       "    .dataframe tbody tr th:only-of-type {\n",
       "        vertical-align: middle;\n",
       "    }\n",
       "\n",
       "    .dataframe tbody tr th {\n",
       "        vertical-align: top;\n",
       "    }\n",
       "\n",
       "    .dataframe thead th {\n",
       "        text-align: right;\n",
       "    }\n",
       "</style>\n",
       "<table border=\"1\" class=\"dataframe\">\n",
       "  <thead>\n",
       "    <tr style=\"text-align: right;\">\n",
       "      <th></th>\n",
       "      <th>SK_ID_CURR</th>\n",
       "      <th>TARGET</th>\n",
       "      <th>CNT_CHILDREN</th>\n",
       "      <th>AMT_INCOME_TOTAL</th>\n",
       "      <th>AMT_CREDIT</th>\n",
       "      <th>AMT_GOODS_PRICE</th>\n",
       "      <th>DAYS_EMPLOYED</th>\n",
       "      <th>MOBILE</th>\n",
       "      <th>WORK_PHONE</th>\n",
       "      <th>HOME_PHONE</th>\n",
       "      <th>MOBILE_REACHABLE</th>\n",
       "      <th>FLAG_EMAIL</th>\n",
       "      <th>CNT_FAM_MEMBERS</th>\n",
       "      <th>TOTAL_DOC_SUBMITTED</th>\n",
       "    </tr>\n",
       "  </thead>\n",
       "  <tbody>\n",
       "    <tr>\n",
       "      <th>0</th>\n",
       "      <td>100002</td>\n",
       "      <td>1</td>\n",
       "      <td>0</td>\n",
       "      <td>202500.0</td>\n",
       "      <td>406597.5</td>\n",
       "      <td>351000.0</td>\n",
       "      <td>-637</td>\n",
       "      <td>1</td>\n",
       "      <td>1</td>\n",
       "      <td>0</td>\n",
       "      <td>1</td>\n",
       "      <td>0</td>\n",
       "      <td>1.0</td>\n",
       "      <td>1</td>\n",
       "    </tr>\n",
       "    <tr>\n",
       "      <th>1</th>\n",
       "      <td>100003</td>\n",
       "      <td>0</td>\n",
       "      <td>0</td>\n",
       "      <td>270000.0</td>\n",
       "      <td>1293502.5</td>\n",
       "      <td>1129500.0</td>\n",
       "      <td>-1188</td>\n",
       "      <td>1</td>\n",
       "      <td>1</td>\n",
       "      <td>0</td>\n",
       "      <td>1</td>\n",
       "      <td>0</td>\n",
       "      <td>2.0</td>\n",
       "      <td>1</td>\n",
       "    </tr>\n",
       "    <tr>\n",
       "      <th>2</th>\n",
       "      <td>100004</td>\n",
       "      <td>0</td>\n",
       "      <td>0</td>\n",
       "      <td>67500.0</td>\n",
       "      <td>135000.0</td>\n",
       "      <td>135000.0</td>\n",
       "      <td>-225</td>\n",
       "      <td>1</td>\n",
       "      <td>1</td>\n",
       "      <td>1</td>\n",
       "      <td>1</td>\n",
       "      <td>0</td>\n",
       "      <td>1.0</td>\n",
       "      <td>0</td>\n",
       "    </tr>\n",
       "    <tr>\n",
       "      <th>3</th>\n",
       "      <td>100006</td>\n",
       "      <td>0</td>\n",
       "      <td>0</td>\n",
       "      <td>135000.0</td>\n",
       "      <td>312682.5</td>\n",
       "      <td>297000.0</td>\n",
       "      <td>-3039</td>\n",
       "      <td>1</td>\n",
       "      <td>1</td>\n",
       "      <td>0</td>\n",
       "      <td>1</td>\n",
       "      <td>0</td>\n",
       "      <td>2.0</td>\n",
       "      <td>1</td>\n",
       "    </tr>\n",
       "    <tr>\n",
       "      <th>4</th>\n",
       "      <td>100007</td>\n",
       "      <td>0</td>\n",
       "      <td>0</td>\n",
       "      <td>121500.0</td>\n",
       "      <td>513000.0</td>\n",
       "      <td>513000.0</td>\n",
       "      <td>-3038</td>\n",
       "      <td>1</td>\n",
       "      <td>1</td>\n",
       "      <td>0</td>\n",
       "      <td>1</td>\n",
       "      <td>0</td>\n",
       "      <td>1.0</td>\n",
       "      <td>1</td>\n",
       "    </tr>\n",
       "    <tr>\n",
       "      <th>...</th>\n",
       "      <td>...</td>\n",
       "      <td>...</td>\n",
       "      <td>...</td>\n",
       "      <td>...</td>\n",
       "      <td>...</td>\n",
       "      <td>...</td>\n",
       "      <td>...</td>\n",
       "      <td>...</td>\n",
       "      <td>...</td>\n",
       "      <td>...</td>\n",
       "      <td>...</td>\n",
       "      <td>...</td>\n",
       "      <td>...</td>\n",
       "      <td>...</td>\n",
       "    </tr>\n",
       "    <tr>\n",
       "      <th>99995</th>\n",
       "      <td>216086</td>\n",
       "      <td>0</td>\n",
       "      <td>1</td>\n",
       "      <td>157500.0</td>\n",
       "      <td>755190.0</td>\n",
       "      <td>675000.0</td>\n",
       "      <td>-232</td>\n",
       "      <td>1</td>\n",
       "      <td>1</td>\n",
       "      <td>1</td>\n",
       "      <td>1</td>\n",
       "      <td>0</td>\n",
       "      <td>3.0</td>\n",
       "      <td>1</td>\n",
       "    </tr>\n",
       "    <tr>\n",
       "      <th>99996</th>\n",
       "      <td>216087</td>\n",
       "      <td>0</td>\n",
       "      <td>1</td>\n",
       "      <td>225000.0</td>\n",
       "      <td>284400.0</td>\n",
       "      <td>225000.0</td>\n",
       "      <td>-182</td>\n",
       "      <td>1</td>\n",
       "      <td>1</td>\n",
       "      <td>0</td>\n",
       "      <td>1</td>\n",
       "      <td>0</td>\n",
       "      <td>3.0</td>\n",
       "      <td>1</td>\n",
       "    </tr>\n",
       "    <tr>\n",
       "      <th>99997</th>\n",
       "      <td>216088</td>\n",
       "      <td>0</td>\n",
       "      <td>0</td>\n",
       "      <td>135000.0</td>\n",
       "      <td>1262583.0</td>\n",
       "      <td>1102500.0</td>\n",
       "      <td>-4805</td>\n",
       "      <td>1</td>\n",
       "      <td>1</td>\n",
       "      <td>0</td>\n",
       "      <td>1</td>\n",
       "      <td>0</td>\n",
       "      <td>2.0</td>\n",
       "      <td>1</td>\n",
       "    </tr>\n",
       "    <tr>\n",
       "      <th>99998</th>\n",
       "      <td>216089</td>\n",
       "      <td>0</td>\n",
       "      <td>0</td>\n",
       "      <td>135000.0</td>\n",
       "      <td>225000.0</td>\n",
       "      <td>225000.0</td>\n",
       "      <td>-340</td>\n",
       "      <td>1</td>\n",
       "      <td>1</td>\n",
       "      <td>0</td>\n",
       "      <td>1</td>\n",
       "      <td>0</td>\n",
       "      <td>2.0</td>\n",
       "      <td>2</td>\n",
       "    </tr>\n",
       "    <tr>\n",
       "      <th>99999</th>\n",
       "      <td>216090</td>\n",
       "      <td>0</td>\n",
       "      <td>0</td>\n",
       "      <td>202500.0</td>\n",
       "      <td>337500.0</td>\n",
       "      <td>337500.0</td>\n",
       "      <td>-3230</td>\n",
       "      <td>1</td>\n",
       "      <td>1</td>\n",
       "      <td>1</td>\n",
       "      <td>1</td>\n",
       "      <td>0</td>\n",
       "      <td>2.0</td>\n",
       "      <td>0</td>\n",
       "    </tr>\n",
       "  </tbody>\n",
       "</table>\n",
       "<p>100000 rows × 14 columns</p>\n",
       "</div>"
      ],
      "text/plain": [
       "       SK_ID_CURR  TARGET  CNT_CHILDREN  AMT_INCOME_TOTAL  AMT_CREDIT  \\\n",
       "0          100002       1             0          202500.0    406597.5   \n",
       "1          100003       0             0          270000.0   1293502.5   \n",
       "2          100004       0             0           67500.0    135000.0   \n",
       "3          100006       0             0          135000.0    312682.5   \n",
       "4          100007       0             0          121500.0    513000.0   \n",
       "...           ...     ...           ...               ...         ...   \n",
       "99995      216086       0             1          157500.0    755190.0   \n",
       "99996      216087       0             1          225000.0    284400.0   \n",
       "99997      216088       0             0          135000.0   1262583.0   \n",
       "99998      216089       0             0          135000.0    225000.0   \n",
       "99999      216090       0             0          202500.0    337500.0   \n",
       "\n",
       "       AMT_GOODS_PRICE  DAYS_EMPLOYED  MOBILE  WORK_PHONE  HOME_PHONE  \\\n",
       "0             351000.0           -637       1           1           0   \n",
       "1            1129500.0          -1188       1           1           0   \n",
       "2             135000.0           -225       1           1           1   \n",
       "3             297000.0          -3039       1           1           0   \n",
       "4             513000.0          -3038       1           1           0   \n",
       "...                ...            ...     ...         ...         ...   \n",
       "99995         675000.0           -232       1           1           1   \n",
       "99996         225000.0           -182       1           1           0   \n",
       "99997        1102500.0          -4805       1           1           0   \n",
       "99998         225000.0           -340       1           1           0   \n",
       "99999         337500.0          -3230       1           1           1   \n",
       "\n",
       "       MOBILE_REACHABLE  FLAG_EMAIL  CNT_FAM_MEMBERS  TOTAL_DOC_SUBMITTED  \n",
       "0                     1           0              1.0                    1  \n",
       "1                     1           0              2.0                    1  \n",
       "2                     1           0              1.0                    0  \n",
       "3                     1           0              2.0                    1  \n",
       "4                     1           0              1.0                    1  \n",
       "...                 ...         ...              ...                  ...  \n",
       "99995                 1           0              3.0                    1  \n",
       "99996                 1           0              3.0                    1  \n",
       "99997                 1           0              2.0                    1  \n",
       "99998                 1           0              2.0                    2  \n",
       "99999                 1           0              2.0                    0  \n",
       "\n",
       "[100000 rows x 14 columns]"
      ]
     },
     "execution_count": 6,
     "metadata": {},
     "output_type": "execute_result"
    }
   ],
   "source": [
    "#identify the numerical and categorical data\n",
    "df_credit_data_num=df_credit_data.select_dtypes(exclude=object)\n",
    "df_credit_data_num"
   ]
  },
  {
   "cell_type": "code",
   "execution_count": 7,
   "id": "db12477d",
   "metadata": {},
   "outputs": [
    {
     "data": {
      "text/html": [
       "<div>\n",
       "<style scoped>\n",
       "    .dataframe tbody tr th:only-of-type {\n",
       "        vertical-align: middle;\n",
       "    }\n",
       "\n",
       "    .dataframe tbody tr th {\n",
       "        vertical-align: top;\n",
       "    }\n",
       "\n",
       "    .dataframe thead th {\n",
       "        text-align: right;\n",
       "    }\n",
       "</style>\n",
       "<table border=\"1\" class=\"dataframe\">\n",
       "  <thead>\n",
       "    <tr style=\"text-align: right;\">\n",
       "      <th></th>\n",
       "      <th>NAME_CONTRACT_TYPE</th>\n",
       "      <th>GENDER</th>\n",
       "      <th>Car</th>\n",
       "      <th>House</th>\n",
       "      <th>NAME_TYPE_SUITE</th>\n",
       "      <th>NAME_INCOME_TYPE</th>\n",
       "      <th>NAME_EDUCATION_TYPE</th>\n",
       "      <th>NAME_FAMILY_STATUS</th>\n",
       "      <th>OCCUPATION_TYPE</th>\n",
       "      <th>APPLICATION_DAY</th>\n",
       "    </tr>\n",
       "  </thead>\n",
       "  <tbody>\n",
       "    <tr>\n",
       "      <th>0</th>\n",
       "      <td>Cash loans</td>\n",
       "      <td>M</td>\n",
       "      <td>N</td>\n",
       "      <td>Y</td>\n",
       "      <td>Unaccompanied</td>\n",
       "      <td>Working</td>\n",
       "      <td>Secondary / secondary special</td>\n",
       "      <td>Single / not married</td>\n",
       "      <td>Laborers</td>\n",
       "      <td>WEDNESDAY</td>\n",
       "    </tr>\n",
       "    <tr>\n",
       "      <th>1</th>\n",
       "      <td>Cash loans</td>\n",
       "      <td>F</td>\n",
       "      <td>N</td>\n",
       "      <td>N</td>\n",
       "      <td>Family</td>\n",
       "      <td>State servant</td>\n",
       "      <td>Higher education</td>\n",
       "      <td>Married</td>\n",
       "      <td>Core staff</td>\n",
       "      <td>MONDAY</td>\n",
       "    </tr>\n",
       "    <tr>\n",
       "      <th>2</th>\n",
       "      <td>Revolving loans</td>\n",
       "      <td>M</td>\n",
       "      <td>Y</td>\n",
       "      <td>Y</td>\n",
       "      <td>Unaccompanied</td>\n",
       "      <td>Working</td>\n",
       "      <td>Secondary / secondary special</td>\n",
       "      <td>Single / not married</td>\n",
       "      <td>Laborers</td>\n",
       "      <td>MONDAY</td>\n",
       "    </tr>\n",
       "    <tr>\n",
       "      <th>3</th>\n",
       "      <td>Cash loans</td>\n",
       "      <td>F</td>\n",
       "      <td>N</td>\n",
       "      <td>Y</td>\n",
       "      <td>Unaccompanied</td>\n",
       "      <td>Working</td>\n",
       "      <td>Secondary / secondary special</td>\n",
       "      <td>Civil marriage</td>\n",
       "      <td>Laborers</td>\n",
       "      <td>WEDNESDAY</td>\n",
       "    </tr>\n",
       "    <tr>\n",
       "      <th>4</th>\n",
       "      <td>Cash loans</td>\n",
       "      <td>M</td>\n",
       "      <td>N</td>\n",
       "      <td>Y</td>\n",
       "      <td>Unaccompanied</td>\n",
       "      <td>Working</td>\n",
       "      <td>Secondary / secondary special</td>\n",
       "      <td>Single / not married</td>\n",
       "      <td>Core staff</td>\n",
       "      <td>THURSDAY</td>\n",
       "    </tr>\n",
       "    <tr>\n",
       "      <th>...</th>\n",
       "      <td>...</td>\n",
       "      <td>...</td>\n",
       "      <td>...</td>\n",
       "      <td>...</td>\n",
       "      <td>...</td>\n",
       "      <td>...</td>\n",
       "      <td>...</td>\n",
       "      <td>...</td>\n",
       "      <td>...</td>\n",
       "      <td>...</td>\n",
       "    </tr>\n",
       "    <tr>\n",
       "      <th>99995</th>\n",
       "      <td>Cash loans</td>\n",
       "      <td>F</td>\n",
       "      <td>N</td>\n",
       "      <td>Y</td>\n",
       "      <td>Unaccompanied</td>\n",
       "      <td>Working</td>\n",
       "      <td>Secondary / secondary special</td>\n",
       "      <td>Married</td>\n",
       "      <td>Sales staff</td>\n",
       "      <td>MONDAY</td>\n",
       "    </tr>\n",
       "    <tr>\n",
       "      <th>99996</th>\n",
       "      <td>Cash loans</td>\n",
       "      <td>F</td>\n",
       "      <td>N</td>\n",
       "      <td>Y</td>\n",
       "      <td>Unaccompanied</td>\n",
       "      <td>Commercial associate</td>\n",
       "      <td>Higher education</td>\n",
       "      <td>Married</td>\n",
       "      <td>Managers</td>\n",
       "      <td>TUESDAY</td>\n",
       "    </tr>\n",
       "    <tr>\n",
       "      <th>99997</th>\n",
       "      <td>Cash loans</td>\n",
       "      <td>F</td>\n",
       "      <td>Y</td>\n",
       "      <td>Y</td>\n",
       "      <td>Family</td>\n",
       "      <td>Commercial associate</td>\n",
       "      <td>Secondary / secondary special</td>\n",
       "      <td>Married</td>\n",
       "      <td>Sales staff</td>\n",
       "      <td>TUESDAY</td>\n",
       "    </tr>\n",
       "    <tr>\n",
       "      <th>99998</th>\n",
       "      <td>Cash loans</td>\n",
       "      <td>F</td>\n",
       "      <td>Y</td>\n",
       "      <td>N</td>\n",
       "      <td>Unaccompanied</td>\n",
       "      <td>Commercial associate</td>\n",
       "      <td>Secondary / secondary special</td>\n",
       "      <td>Civil marriage</td>\n",
       "      <td>Sales staff</td>\n",
       "      <td>FRIDAY</td>\n",
       "    </tr>\n",
       "    <tr>\n",
       "      <th>99999</th>\n",
       "      <td>Revolving loans</td>\n",
       "      <td>M</td>\n",
       "      <td>Y</td>\n",
       "      <td>Y</td>\n",
       "      <td>Unaccompanied</td>\n",
       "      <td>Working</td>\n",
       "      <td>Secondary / secondary special</td>\n",
       "      <td>Married</td>\n",
       "      <td>Drivers</td>\n",
       "      <td>SATURDAY</td>\n",
       "    </tr>\n",
       "  </tbody>\n",
       "</table>\n",
       "<p>100000 rows × 10 columns</p>\n",
       "</div>"
      ],
      "text/plain": [
       "      NAME_CONTRACT_TYPE GENDER Car House NAME_TYPE_SUITE  \\\n",
       "0             Cash loans      M   N     Y   Unaccompanied   \n",
       "1             Cash loans      F   N     N          Family   \n",
       "2        Revolving loans      M   Y     Y   Unaccompanied   \n",
       "3             Cash loans      F   N     Y   Unaccompanied   \n",
       "4             Cash loans      M   N     Y   Unaccompanied   \n",
       "...                  ...    ...  ..   ...             ...   \n",
       "99995         Cash loans      F   N     Y   Unaccompanied   \n",
       "99996         Cash loans      F   N     Y   Unaccompanied   \n",
       "99997         Cash loans      F   Y     Y          Family   \n",
       "99998         Cash loans      F   Y     N   Unaccompanied   \n",
       "99999    Revolving loans      M   Y     Y   Unaccompanied   \n",
       "\n",
       "           NAME_INCOME_TYPE            NAME_EDUCATION_TYPE  \\\n",
       "0                   Working  Secondary / secondary special   \n",
       "1             State servant               Higher education   \n",
       "2                   Working  Secondary / secondary special   \n",
       "3                   Working  Secondary / secondary special   \n",
       "4                   Working  Secondary / secondary special   \n",
       "...                     ...                            ...   \n",
       "99995               Working  Secondary / secondary special   \n",
       "99996  Commercial associate               Higher education   \n",
       "99997  Commercial associate  Secondary / secondary special   \n",
       "99998  Commercial associate  Secondary / secondary special   \n",
       "99999               Working  Secondary / secondary special   \n",
       "\n",
       "         NAME_FAMILY_STATUS OCCUPATION_TYPE APPLICATION_DAY  \n",
       "0      Single / not married        Laborers       WEDNESDAY  \n",
       "1                   Married      Core staff          MONDAY  \n",
       "2      Single / not married        Laborers          MONDAY  \n",
       "3            Civil marriage        Laborers       WEDNESDAY  \n",
       "4      Single / not married      Core staff        THURSDAY  \n",
       "...                     ...             ...             ...  \n",
       "99995               Married     Sales staff          MONDAY  \n",
       "99996               Married        Managers         TUESDAY  \n",
       "99997               Married     Sales staff         TUESDAY  \n",
       "99998        Civil marriage     Sales staff          FRIDAY  \n",
       "99999               Married         Drivers        SATURDAY  \n",
       "\n",
       "[100000 rows x 10 columns]"
      ]
     },
     "execution_count": 7,
     "metadata": {},
     "output_type": "execute_result"
    }
   ],
   "source": [
    "df_credit_data_cat=df_credit_data.select_dtypes(include=object)\n",
    "df_credit_data_cat"
   ]
  },
  {
   "cell_type": "code",
   "execution_count": 8,
   "id": "12c15bad",
   "metadata": {},
   "outputs": [
    {
     "name": "stdout",
     "output_type": "stream",
     "text": [
      "Numerical Data:  Index(['SK_ID_CURR', 'TARGET', 'CNT_CHILDREN', 'AMT_INCOME_TOTAL',\n",
      "       'AMT_CREDIT', 'AMT_GOODS_PRICE', 'DAYS_EMPLOYED', 'MOBILE',\n",
      "       'WORK_PHONE', 'HOME_PHONE', 'MOBILE_REACHABLE', 'FLAG_EMAIL',\n",
      "       'CNT_FAM_MEMBERS', 'TOTAL_DOC_SUBMITTED'],\n",
      "      dtype='object')\n",
      "Categorical Data:  Index(['NAME_CONTRACT_TYPE', 'GENDER', 'Car', 'House', 'NAME_TYPE_SUITE',\n",
      "       'NAME_INCOME_TYPE', 'NAME_EDUCATION_TYPE', 'NAME_FAMILY_STATUS',\n",
      "       'OCCUPATION_TYPE', 'APPLICATION_DAY'],\n",
      "      dtype='object')\n"
     ]
    }
   ],
   "source": [
    "print(\"Numerical Data: \",df_credit_data_num.columns)\n",
    "print(\"Categorical Data: \",df_credit_data_cat.columns)"
   ]
  },
  {
   "cell_type": "markdown",
   "id": "330287a0",
   "metadata": {},
   "source": [
    "## perform descriptive analysis of each numerical and categorical column by defining a function to print the information: the number of categories present in a column, the mode of a column"
   ]
  },
  {
   "cell_type": "code",
   "execution_count": 9,
   "id": "1cf31eb6",
   "metadata": {},
   "outputs": [],
   "source": [
    "def num_info(col):\n",
    "    print(\"Mean of \",col,\" is \",df_credit_data_num[col].mean())\n",
    "    print(\"Median of \",col,\" is \",df_credit_data_num[col].median())\n",
    "    print(\"Mode of \",col,\" is \",df_credit_data_num[col].mode()[0])\n",
    "    print(\"Number of Null value \",col,\" is \",df_credit_data_num[col].isnull().sum())"
   ]
  },
  {
   "cell_type": "code",
   "execution_count": 10,
   "id": "d9647817",
   "metadata": {},
   "outputs": [
    {
     "name": "stdout",
     "output_type": "stream",
     "text": [
      "Mean of  AMT_GOODS_PRICE  is  538345.1489706662\n",
      "Median of  AMT_GOODS_PRICE  is  450000.0\n",
      "Mode of  AMT_GOODS_PRICE  is  450000.0\n",
      "Number of Null value  AMT_GOODS_PRICE  is  81\n"
     ]
    }
   ],
   "source": [
    "num_info('AMT_GOODS_PRICE')"
   ]
  },
  {
   "cell_type": "code",
   "execution_count": 11,
   "id": "314193d9",
   "metadata": {},
   "outputs": [],
   "source": [
    "df_credit_data_num['AMT_GOODS_PRICE']=df_credit_data_num['AMT_GOODS_PRICE'].fillna(450000.0)"
   ]
  },
  {
   "cell_type": "code",
   "execution_count": 12,
   "id": "efa03426",
   "metadata": {},
   "outputs": [
    {
     "name": "stdout",
     "output_type": "stream",
     "text": [
      "Mean of  AMT_GOODS_PRICE  is  538273.5894\n",
      "Median of  AMT_GOODS_PRICE  is  450000.0\n",
      "Mode of  AMT_GOODS_PRICE  is  450000.0\n",
      "Number of Null value  AMT_GOODS_PRICE  is  0\n"
     ]
    }
   ],
   "source": [
    "num_info('AMT_GOODS_PRICE')"
   ]
  },
  {
   "cell_type": "code",
   "execution_count": 13,
   "id": "e1fe75af",
   "metadata": {},
   "outputs": [],
   "source": [
    "def cat_info(col):\n",
    "    print(\"Unique value is \",col,' are ',df_credit_data_cat[col].unique())\n",
    "    print(\"Mode of \",col,' is ',df_credit_data_cat[col].mode()[0])\n",
    "    print(\"Number of missing values in \",col,\" are \",df_credit_data_cat[col].isnull().sum())"
   ]
  },
  {
   "cell_type": "code",
   "execution_count": 14,
   "id": "8eb2d741",
   "metadata": {},
   "outputs": [
    {
     "name": "stdout",
     "output_type": "stream",
     "text": [
      "Unique value is  NAME_TYPE_SUITE  are  ['Unaccompanied' 'Family' 'Spouse, partner' 'Children' 'Other_A' nan\n",
      " 'Other_B' 'Group of people']\n",
      "Mode of  NAME_TYPE_SUITE  is  Unaccompanied\n",
      "Number of missing values in  NAME_TYPE_SUITE  are  405\n"
     ]
    }
   ],
   "source": [
    "cat_info('NAME_TYPE_SUITE')"
   ]
  },
  {
   "cell_type": "code",
   "execution_count": 15,
   "id": "60ec7fa8",
   "metadata": {},
   "outputs": [],
   "source": [
    "df_credit_data_cat['NAME_TYPE_SUITE']=df_credit_data_cat['NAME_TYPE_SUITE'].fillna('Unaccompanied')"
   ]
  },
  {
   "cell_type": "code",
   "execution_count": 16,
   "id": "19db83a4",
   "metadata": {},
   "outputs": [
    {
     "name": "stdout",
     "output_type": "stream",
     "text": [
      "Unique value is  NAME_TYPE_SUITE  are  ['Unaccompanied' 'Family' 'Spouse, partner' 'Children' 'Other_A' 'Other_B'\n",
      " 'Group of people']\n",
      "Mode of  NAME_TYPE_SUITE  is  Unaccompanied\n",
      "Number of missing values in  NAME_TYPE_SUITE  are  0\n"
     ]
    }
   ],
   "source": [
    "cat_info('NAME_TYPE_SUITE')"
   ]
  },
  {
   "cell_type": "code",
   "execution_count": 17,
   "id": "ff9ebd8b",
   "metadata": {},
   "outputs": [
    {
     "name": "stdout",
     "output_type": "stream",
     "text": [
      "Unique value is  OCCUPATION_TYPE  are  ['Laborers' 'Core staff' 'Accountants' 'Managers' nan 'Drivers'\n",
      " 'Sales staff' 'Cleaning staff' 'Cooking staff' 'Private service staff'\n",
      " 'Medicine staff' 'Security staff' 'High skill tech staff'\n",
      " 'Waiters/barmen staff' 'Low-skill Laborers' 'Realty agents' 'Secretaries'\n",
      " 'IT staff' 'HR staff']\n",
      "Mode of  OCCUPATION_TYPE  is  Laborers\n",
      "Number of missing values in  OCCUPATION_TYPE  are  31224\n"
     ]
    }
   ],
   "source": [
    "cat_info('OCCUPATION_TYPE')"
   ]
  },
  {
   "cell_type": "code",
   "execution_count": 18,
   "id": "7a4445d8",
   "metadata": {},
   "outputs": [],
   "source": [
    "df_credit_data_cat['OCCUPATION_TYPE']=df_credit_data_cat['OCCUPATION_TYPE'].fillna('Laborers')"
   ]
  },
  {
   "cell_type": "code",
   "execution_count": 19,
   "id": "99837162",
   "metadata": {},
   "outputs": [
    {
     "name": "stdout",
     "output_type": "stream",
     "text": [
      "Unique value is  OCCUPATION_TYPE  are  ['Laborers' 'Core staff' 'Accountants' 'Managers' 'Drivers' 'Sales staff'\n",
      " 'Cleaning staff' 'Cooking staff' 'Private service staff' 'Medicine staff'\n",
      " 'Security staff' 'High skill tech staff' 'Waiters/barmen staff'\n",
      " 'Low-skill Laborers' 'Realty agents' 'Secretaries' 'IT staff' 'HR staff']\n",
      "Mode of  OCCUPATION_TYPE  is  Laborers\n",
      "Number of missing values in  OCCUPATION_TYPE  are  0\n"
     ]
    }
   ],
   "source": [
    "cat_info('OCCUPATION_TYPE')"
   ]
  },
  {
   "cell_type": "code",
   "execution_count": 20,
   "id": "026705dc",
   "metadata": {
    "scrolled": true
   },
   "outputs": [
    {
     "name": "stdout",
     "output_type": "stream",
     "text": [
      "Unique value is  NAME_CONTRACT_TYPE  are  ['Cash loans' 'Revolving loans']\n",
      "Mode of  NAME_CONTRACT_TYPE  is  Cash loans\n",
      "Number of missing values in  NAME_CONTRACT_TYPE  are  0\n"
     ]
    }
   ],
   "source": [
    "cat_info('NAME_CONTRACT_TYPE')"
   ]
  },
  {
   "cell_type": "code",
   "execution_count": 21,
   "id": "e55dfc5a",
   "metadata": {
    "scrolled": true
   },
   "outputs": [
    {
     "name": "stdout",
     "output_type": "stream",
     "text": [
      "Unique value is  NAME_FAMILY_STATUS  are  ['Single / not married' 'Married' 'Civil marriage' 'Widow' 'Separated'\n",
      " 'Unknown']\n",
      "Mode of  NAME_FAMILY_STATUS  is  Married\n",
      "Number of missing values in  NAME_FAMILY_STATUS  are  0\n"
     ]
    }
   ],
   "source": [
    "cat_info('NAME_FAMILY_STATUS')"
   ]
  },
  {
   "cell_type": "code",
   "execution_count": 22,
   "id": "39f2f789",
   "metadata": {},
   "outputs": [
    {
     "data": {
      "text/plain": [
       "array([  -637,  -1188,   -225, ..., -10293,  -7386,  -4059], dtype=int64)"
      ]
     },
     "execution_count": 22,
     "metadata": {},
     "output_type": "execute_result"
    }
   ],
   "source": [
    "df_credit_data_num['DAYS_EMPLOYED'].unique()"
   ]
  },
  {
   "cell_type": "markdown",
   "id": "7b5eeb5e",
   "metadata": {},
   "source": [
    "## LEVEL 1 ANALYSIS –UNIVARATE ANALYSIS"
   ]
  },
  {
   "cell_type": "code",
   "execution_count": 23,
   "id": "ba51b943",
   "metadata": {
    "scrolled": true
   },
   "outputs": [
    {
     "data": {
      "image/png": "[encoded data removed]",
      "text/plain": [
       "<Figure size 864x432 with 2 Axes>"
      ]
     },
     "metadata": {
      "needs_background": "light"
     },
     "output_type": "display_data"
    }
   ],
   "source": [
    "#TARGET,\"Target variable (1 - client with payment difficulties: he/she had late payment more \n",
    "#than X days on at least one of the first Y installments \n",
    "#of the loan in our sample, 0 - all other cases)\"\n",
    "plt.figure(figsize=(12,6))\n",
    "plt.subplot(121)\n",
    "target_cnt=df_credit_data_num['TARGET'].value_counts()\n",
    "sb.barplot(x=target_cnt.index,y=target_cnt.values)\n",
    "plt.ylabel('Target Count')\n",
    "plt.xlabel('Target')\n",
    "\n",
    "plt.subplot(122)\n",
    "plt.pie(target_cnt,labels=target_cnt.index,autopct='%.2f%%')\n",
    "plt.show()"
   ]
  },
  {
   "cell_type": "markdown",
   "id": "05a94a2e",
   "metadata": {},
   "source": [
    "### Interpreatation: 8% of client with payment difficulties "
   ]
  },
  {
   "cell_type": "markdown",
   "id": "c5fad887",
   "metadata": {},
   "source": [
    "# Genderwise clients who applied for loans"
   ]
  },
  {
   "cell_type": "code",
   "execution_count": 24,
   "id": "73b77727",
   "metadata": {},
   "outputs": [
    {
     "data": {
      "text/plain": [
       "F      65855\n",
       "M      34142\n",
       "XNA        3\n",
       "Name: GENDER, dtype: int64"
      ]
     },
     "execution_count": 24,
     "metadata": {},
     "output_type": "execute_result"
    }
   ],
   "source": [
    "df_gender=df_credit_data_cat['GENDER'].value_counts()\n",
    "df_gender"
   ]
  },
  {
   "cell_type": "code",
   "execution_count": 25,
   "id": "374dd702",
   "metadata": {
    "scrolled": true
   },
   "outputs": [
    {
     "data": {
      "image/png": "[encoded data removed]",
      "text/plain": [
       "<Figure size 720x288 with 2 Axes>"
      ]
     },
     "metadata": {
      "needs_background": "light"
     },
     "output_type": "display_data"
    }
   ],
   "source": [
    "plt.figure(figsize=(10,4))\n",
    "plt.subplot(121)\n",
    "sb.barplot(x=df_gender.index,y=df_gender.values)\n",
    "plt.xlabel('Gender')\n",
    "plt.ylabel('Count')\n",
    "plt.title('Genderwise clients Count')\n",
    "\n",
    "plt.subplot(122)\n",
    "plt.pie(df_gender,labels=df_gender.index,autopct='%.2f%%')\n",
    "plt.show()"
   ]
  },
  {
   "cell_type": "markdown",
   "id": "f2c8801d",
   "metadata": {},
   "source": [
    "### Interpretation:Female clients are more than Male clients applied for loan, 65% female and 34% male applied for loan"
   ]
  },
  {
   "cell_type": "markdown",
   "id": "9b14e052",
   "metadata": {},
   "source": [
    "# How many clients apply for 'Cash loans' and 'Revolving loans'"
   ]
  },
  {
   "cell_type": "code",
   "execution_count": 26,
   "id": "96404b65",
   "metadata": {},
   "outputs": [
    {
     "data": {
      "text/plain": [
       "Cash loans         90517\n",
       "Revolving loans     9483\n",
       "Name: NAME_CONTRACT_TYPE, dtype: int64"
      ]
     },
     "execution_count": 26,
     "metadata": {},
     "output_type": "execute_result"
    }
   ],
   "source": [
    "df_loan_count=df_credit_data_cat['NAME_CONTRACT_TYPE'].value_counts()\n",
    "df_loan_count"
   ]
  },
  {
   "cell_type": "code",
   "execution_count": 27,
   "id": "ed7b8947",
   "metadata": {
    "scrolled": true
   },
   "outputs": [
    {
     "data": {
      "image/png": "[encoded data removed]",
      "text/plain": [
       "<Figure size 864x432 with 2 Axes>"
      ]
     },
     "metadata": {
      "needs_background": "light"
     },
     "output_type": "display_data"
    }
   ],
   "source": [
    "plt.figure(figsize=(12,6))\n",
    "plt.subplot(121)\n",
    "sb.barplot(x=df_loan_count.index,y=df_loan_count.values)\n",
    "plt.xlabel('NAME_CONTRACT_TYPE')\n",
    "plt.ylabel('Count')\n",
    "plt.title('Number of clients apply for loans')\n",
    "\n",
    "plt.subplot(122)\n",
    "plt.pie(df_loan_count,labels=df_loan_count.index,autopct='%.2f%%')\n",
    "plt.show()"
   ]
  },
  {
   "cell_type": "markdown",
   "id": "69d1fb65",
   "metadata": {},
   "source": [
    "### Interpretation:90% of client applied for cash loans and 10% apply for credit card loan(Revolving loans)."
   ]
  },
  {
   "cell_type": "markdown",
   "id": "b94e1023",
   "metadata": {},
   "source": [
    "# How many clients have own house"
   ]
  },
  {
   "cell_type": "code",
   "execution_count": 28,
   "id": "7ceaaf2d",
   "metadata": {},
   "outputs": [
    {
     "data": {
      "text/plain": [
       "Y    69328\n",
       "N    30672\n",
       "Name: House, dtype: int64"
      ]
     },
     "execution_count": 28,
     "metadata": {},
     "output_type": "execute_result"
    }
   ],
   "source": [
    "df_house=df_credit_data_cat['House'].value_counts()\n",
    "df_house"
   ]
  },
  {
   "cell_type": "code",
   "execution_count": 29,
   "id": "2cc074d7",
   "metadata": {},
   "outputs": [
    {
     "data": {
      "image/png": "[encoded data removed]",
      "text/plain": [
       "<Figure size 720x432 with 2 Axes>"
      ]
     },
     "metadata": {
      "needs_background": "light"
     },
     "output_type": "display_data"
    }
   ],
   "source": [
    "plt.figure(figsize=(10,6))\n",
    "plt.subplot(121)\n",
    "sb.barplot(x=df_house.index,y=df_house.values)\n",
    "plt.xlabel('House')\n",
    "plt.ylabel('House count')\n",
    "plt.title('clientswise count for house')\n",
    "\n",
    "plt.subplot(122)\n",
    "plt.pie(df_house,labels=df_house.index,autopct='%.2f%%')\n",
    "plt.show()"
   ]
  },
  {
   "cell_type": "markdown",
   "id": "ee15c50d",
   "metadata": {},
   "source": [
    "### Interpretation: 69% client have own house."
   ]
  },
  {
   "cell_type": "code",
   "execution_count": 30,
   "id": "6d405c06",
   "metadata": {
    "scrolled": true
   },
   "outputs": [
    {
     "data": {
      "image/png": "[encoded data removed]",
      "text/plain": [
       "<Figure size 864x432 with 2 Axes>"
      ]
     },
     "metadata": {
      "needs_background": "light"
     },
     "output_type": "display_data"
    }
   ],
   "source": [
    "plt.figure(figsize=(12,6))\n",
    "plt.subplot(121)\n",
    "income_type_cnt=df_credit_data_cat['NAME_INCOME_TYPE'].value_counts()\n",
    "sb.barplot(x=income_type_cnt.values,y=income_type_cnt.index)\n",
    "plt.ylabel('Income Type')\n",
    "plt.xlabel('Count')\n",
    "\n",
    "plt.subplot(122)\n",
    "plt.pie(income_type_cnt,labels=income_type_cnt.index,autopct='%.2f%%')\n",
    "plt.show()"
   ]
  },
  {
   "cell_type": "code",
   "execution_count": 31,
   "id": "fdee0f2f",
   "metadata": {
    "scrolled": true
   },
   "outputs": [
    {
     "data": {
      "image/png": "[encoded data removed]",
      "text/plain": [
       "<Figure size 864x432 with 2 Axes>"
      ]
     },
     "metadata": {
      "needs_background": "light"
     },
     "output_type": "display_data"
    }
   ],
   "source": [
    "\n",
    "plt.figure(figsize=(12,6))\n",
    "plt.subplot(121)\n",
    "income_type_cnt=df_credit_data_cat['OCCUPATION_TYPE'].value_counts()\n",
    "sb.barplot(x=income_type_cnt.values,y=income_type_cnt.index)\n",
    "plt.ylabel('OCCUPATION_TYPE')\n",
    "plt.xlabel('Count')\n",
    "\n",
    "plt.subplot(122)\n",
    "plt.pie(income_type_cnt,labels=income_type_cnt.index,autopct='%.2f%%')\n",
    "plt.show()"
   ]
  },
  {
   "cell_type": "markdown",
   "id": "ea198e2e",
   "metadata": {},
   "source": [
    "### Interpretation : 50% of clients are Laborers, 10% of clients are Sales staff, 9% of clients are Core staff,7% clients are Managers and 6% of clients are Drivers who applied for Loan."
   ]
  },
  {
   "cell_type": "code",
   "execution_count": 32,
   "id": "f20df490",
   "metadata": {
    "scrolled": true
   },
   "outputs": [
    {
     "data": {
      "image/png": "[encoded data removed]",
      "text/plain": [
       "<Figure size 864x432 with 2 Axes>"
      ]
     },
     "metadata": {
      "needs_background": "light"
     },
     "output_type": "display_data"
    }
   ],
   "source": [
    "plt.figure(figsize=(12,6))\n",
    "plt.subplot(121)\n",
    "income_type_cnt=df_credit_data_cat['NAME_TYPE_SUITE'].value_counts()\n",
    "sb.barplot(x=income_type_cnt.values,y=income_type_cnt.index)\n",
    "plt.ylabel('NAME_TYPE_SUITE')\n",
    "plt.xlabel('Count')\n",
    "\n",
    "plt.subplot(122)\n",
    "plt.pie(income_type_cnt,labels=income_type_cnt.index,autopct='%.2f%%')\n",
    "plt.show()"
   ]
  },
  {
   "cell_type": "markdown",
   "id": "5fc60ce0",
   "metadata": {},
   "source": [
    "### Interpretation:81% clients are Unaccompanied when they applied for the loan. 13% clients with family when the applied for the loan."
   ]
  },
  {
   "cell_type": "markdown",
   "id": "e56d62b5",
   "metadata": {},
   "source": []
  },
  {
   "cell_type": "markdown",
   "id": "f0352888",
   "metadata": {},
   "source": [
    "# LEVEL 2 ANALYSIS – BIVARATE ANALYSIS"
   ]
  },
  {
   "cell_type": "markdown",
   "id": "2e898ddc",
   "metadata": {},
   "source": [
    "### How many Male and Female apply for 'Cash loans' and 'Revolving loans'"
   ]
  },
  {
   "cell_type": "code",
   "execution_count": 33,
   "id": "6b89e0f0",
   "metadata": {
    "scrolled": true
   },
   "outputs": [
    {
     "data": {
      "image/png": "[encoded data removed]",
      "text/plain": [
       "<Figure size 432x288 with 1 Axes>"
      ]
     },
     "metadata": {
      "needs_background": "light"
     },
     "output_type": "display_data"
    }
   ],
   "source": [
    "sb.countplot(x='NAME_CONTRACT_TYPE',hue='GENDER',data=df_credit_data_cat)\n",
    "plt.show()"
   ]
  },
  {
   "cell_type": "markdown",
   "id": "5fcd6c45",
   "metadata": {},
   "source": [
    "# Analysing genderwise Occupation Type of client"
   ]
  },
  {
   "cell_type": "code",
   "execution_count": 34,
   "id": "953125a9",
   "metadata": {},
   "outputs": [
    {
     "data": {
      "image/png": "[encoded data removed]",
      "text/plain": [
       "<Figure size 864x576 with 1 Axes>"
      ]
     },
     "metadata": {
      "needs_background": "light"
     },
     "output_type": "display_data"
    }
   ],
   "source": [
    "plt.figure(figsize=(12,8))\n",
    "sb.countplot(y='OCCUPATION_TYPE',hue='GENDER',data=df_credit_data_cat)\n",
    "plt.show()"
   ]
  },
  {
   "cell_type": "code",
   "execution_count": null,
   "id": "41e3620d",
   "metadata": {},
   "outputs": [],
   "source": []
  },
  {
   "cell_type": "code",
   "execution_count": null,
   "id": "32a12d2b",
   "metadata": {},
   "outputs": [],
   "source": []
  },
  {
   "cell_type": "markdown",
   "id": "155dc1b3",
   "metadata": {},
   "source": [
    "### How many Male and Female in 'Laborers' who apply for loan"
   ]
  },
  {
   "cell_type": "code",
   "execution_count": 35,
   "id": "1add4dca",
   "metadata": {},
   "outputs": [
    {
     "data": {
      "text/html": [
       "<div>\n",
       "<style scoped>\n",
       "    .dataframe tbody tr th:only-of-type {\n",
       "        vertical-align: middle;\n",
       "    }\n",
       "\n",
       "    .dataframe tbody tr th {\n",
       "        vertical-align: top;\n",
       "    }\n",
       "\n",
       "    .dataframe thead th {\n",
       "        text-align: right;\n",
       "    }\n",
       "</style>\n",
       "<table border=\"1\" class=\"dataframe\">\n",
       "  <thead>\n",
       "    <tr style=\"text-align: right;\">\n",
       "      <th></th>\n",
       "      <th>NAME_CONTRACT_TYPE</th>\n",
       "      <th>GENDER</th>\n",
       "      <th>Car</th>\n",
       "      <th>House</th>\n",
       "      <th>NAME_TYPE_SUITE</th>\n",
       "      <th>NAME_INCOME_TYPE</th>\n",
       "      <th>NAME_EDUCATION_TYPE</th>\n",
       "      <th>NAME_FAMILY_STATUS</th>\n",
       "      <th>OCCUPATION_TYPE</th>\n",
       "      <th>APPLICATION_DAY</th>\n",
       "    </tr>\n",
       "  </thead>\n",
       "  <tbody>\n",
       "    <tr>\n",
       "      <th>0</th>\n",
       "      <td>Cash loans</td>\n",
       "      <td>M</td>\n",
       "      <td>N</td>\n",
       "      <td>Y</td>\n",
       "      <td>Unaccompanied</td>\n",
       "      <td>Working</td>\n",
       "      <td>Secondary / secondary special</td>\n",
       "      <td>Single / not married</td>\n",
       "      <td>Laborers</td>\n",
       "      <td>WEDNESDAY</td>\n",
       "    </tr>\n",
       "    <tr>\n",
       "      <th>2</th>\n",
       "      <td>Revolving loans</td>\n",
       "      <td>M</td>\n",
       "      <td>Y</td>\n",
       "      <td>Y</td>\n",
       "      <td>Unaccompanied</td>\n",
       "      <td>Working</td>\n",
       "      <td>Secondary / secondary special</td>\n",
       "      <td>Single / not married</td>\n",
       "      <td>Laborers</td>\n",
       "      <td>MONDAY</td>\n",
       "    </tr>\n",
       "    <tr>\n",
       "      <th>3</th>\n",
       "      <td>Cash loans</td>\n",
       "      <td>F</td>\n",
       "      <td>N</td>\n",
       "      <td>Y</td>\n",
       "      <td>Unaccompanied</td>\n",
       "      <td>Working</td>\n",
       "      <td>Secondary / secondary special</td>\n",
       "      <td>Civil marriage</td>\n",
       "      <td>Laborers</td>\n",
       "      <td>WEDNESDAY</td>\n",
       "    </tr>\n",
       "    <tr>\n",
       "      <th>5</th>\n",
       "      <td>Cash loans</td>\n",
       "      <td>M</td>\n",
       "      <td>N</td>\n",
       "      <td>Y</td>\n",
       "      <td>Spouse, partner</td>\n",
       "      <td>State servant</td>\n",
       "      <td>Secondary / secondary special</td>\n",
       "      <td>Married</td>\n",
       "      <td>Laborers</td>\n",
       "      <td>WEDNESDAY</td>\n",
       "    </tr>\n",
       "    <tr>\n",
       "      <th>8</th>\n",
       "      <td>Cash loans</td>\n",
       "      <td>F</td>\n",
       "      <td>N</td>\n",
       "      <td>Y</td>\n",
       "      <td>Children</td>\n",
       "      <td>Pensioner</td>\n",
       "      <td>Secondary / secondary special</td>\n",
       "      <td>Married</td>\n",
       "      <td>Laborers</td>\n",
       "      <td>WEDNESDAY</td>\n",
       "    </tr>\n",
       "    <tr>\n",
       "      <th>...</th>\n",
       "      <td>...</td>\n",
       "      <td>...</td>\n",
       "      <td>...</td>\n",
       "      <td>...</td>\n",
       "      <td>...</td>\n",
       "      <td>...</td>\n",
       "      <td>...</td>\n",
       "      <td>...</td>\n",
       "      <td>...</td>\n",
       "      <td>...</td>\n",
       "    </tr>\n",
       "    <tr>\n",
       "      <th>99982</th>\n",
       "      <td>Cash loans</td>\n",
       "      <td>F</td>\n",
       "      <td>N</td>\n",
       "      <td>Y</td>\n",
       "      <td>Unaccompanied</td>\n",
       "      <td>Pensioner</td>\n",
       "      <td>Secondary / secondary special</td>\n",
       "      <td>Married</td>\n",
       "      <td>Laborers</td>\n",
       "      <td>WEDNESDAY</td>\n",
       "    </tr>\n",
       "    <tr>\n",
       "      <th>99987</th>\n",
       "      <td>Cash loans</td>\n",
       "      <td>M</td>\n",
       "      <td>N</td>\n",
       "      <td>N</td>\n",
       "      <td>Unaccompanied</td>\n",
       "      <td>Working</td>\n",
       "      <td>Secondary / secondary special</td>\n",
       "      <td>Separated</td>\n",
       "      <td>Laborers</td>\n",
       "      <td>FRIDAY</td>\n",
       "    </tr>\n",
       "    <tr>\n",
       "      <th>99988</th>\n",
       "      <td>Cash loans</td>\n",
       "      <td>M</td>\n",
       "      <td>N</td>\n",
       "      <td>Y</td>\n",
       "      <td>Spouse, partner</td>\n",
       "      <td>Working</td>\n",
       "      <td>Secondary / secondary special</td>\n",
       "      <td>Married</td>\n",
       "      <td>Laborers</td>\n",
       "      <td>FRIDAY</td>\n",
       "    </tr>\n",
       "    <tr>\n",
       "      <th>99989</th>\n",
       "      <td>Cash loans</td>\n",
       "      <td>F</td>\n",
       "      <td>N</td>\n",
       "      <td>Y</td>\n",
       "      <td>Unaccompanied</td>\n",
       "      <td>Working</td>\n",
       "      <td>Secondary / secondary special</td>\n",
       "      <td>Married</td>\n",
       "      <td>Laborers</td>\n",
       "      <td>MONDAY</td>\n",
       "    </tr>\n",
       "    <tr>\n",
       "      <th>99994</th>\n",
       "      <td>Cash loans</td>\n",
       "      <td>M</td>\n",
       "      <td>Y</td>\n",
       "      <td>N</td>\n",
       "      <td>Unaccompanied</td>\n",
       "      <td>Working</td>\n",
       "      <td>Secondary / secondary special</td>\n",
       "      <td>Married</td>\n",
       "      <td>Laborers</td>\n",
       "      <td>SATURDAY</td>\n",
       "    </tr>\n",
       "  </tbody>\n",
       "</table>\n",
       "<p>49201 rows × 10 columns</p>\n",
       "</div>"
      ],
      "text/plain": [
       "      NAME_CONTRACT_TYPE GENDER Car House  NAME_TYPE_SUITE NAME_INCOME_TYPE  \\\n",
       "0             Cash loans      M   N     Y    Unaccompanied          Working   \n",
       "2        Revolving loans      M   Y     Y    Unaccompanied          Working   \n",
       "3             Cash loans      F   N     Y    Unaccompanied          Working   \n",
       "5             Cash loans      M   N     Y  Spouse, partner    State servant   \n",
       "8             Cash loans      F   N     Y         Children        Pensioner   \n",
       "...                  ...    ...  ..   ...              ...              ...   \n",
       "99982         Cash loans      F   N     Y    Unaccompanied        Pensioner   \n",
       "99987         Cash loans      M   N     N    Unaccompanied          Working   \n",
       "99988         Cash loans      M   N     Y  Spouse, partner          Working   \n",
       "99989         Cash loans      F   N     Y    Unaccompanied          Working   \n",
       "99994         Cash loans      M   Y     N    Unaccompanied          Working   \n",
       "\n",
       "                 NAME_EDUCATION_TYPE    NAME_FAMILY_STATUS OCCUPATION_TYPE  \\\n",
       "0      Secondary / secondary special  Single / not married        Laborers   \n",
       "2      Secondary / secondary special  Single / not married        Laborers   \n",
       "3      Secondary / secondary special        Civil marriage        Laborers   \n",
       "5      Secondary / secondary special               Married        Laborers   \n",
       "8      Secondary / secondary special               Married        Laborers   \n",
       "...                              ...                   ...             ...   \n",
       "99982  Secondary / secondary special               Married        Laborers   \n",
       "99987  Secondary / secondary special             Separated        Laborers   \n",
       "99988  Secondary / secondary special               Married        Laborers   \n",
       "99989  Secondary / secondary special               Married        Laborers   \n",
       "99994  Secondary / secondary special               Married        Laborers   \n",
       "\n",
       "      APPLICATION_DAY  \n",
       "0           WEDNESDAY  \n",
       "2              MONDAY  \n",
       "3           WEDNESDAY  \n",
       "5           WEDNESDAY  \n",
       "8           WEDNESDAY  \n",
       "...               ...  \n",
       "99982       WEDNESDAY  \n",
       "99987          FRIDAY  \n",
       "99988          FRIDAY  \n",
       "99989          MONDAY  \n",
       "99994        SATURDAY  \n",
       "\n",
       "[49201 rows x 10 columns]"
      ]
     },
     "execution_count": 35,
     "metadata": {},
     "output_type": "execute_result"
    }
   ],
   "source": [
    "lab_data=df_credit_data_cat[df_credit_data_cat['OCCUPATION_TYPE']=='Laborers']\n",
    "lab_data"
   ]
  },
  {
   "cell_type": "code",
   "execution_count": 36,
   "id": "82e18fc1",
   "metadata": {
    "scrolled": true
   },
   "outputs": [
    {
     "data": {
      "text/plain": [
       "F      31327\n",
       "M      17873\n",
       "XNA        1\n",
       "Name: GENDER, dtype: int64"
      ]
     },
     "execution_count": 36,
     "metadata": {},
     "output_type": "execute_result"
    }
   ],
   "source": [
    "lab_cnt=lab_data['GENDER'].value_counts()\n",
    "lab_cnt"
   ]
  },
  {
   "cell_type": "code",
   "execution_count": 37,
   "id": "bea0c3e2",
   "metadata": {},
   "outputs": [
    {
     "data": {
      "image/png": "[encoded data removed]",
      "text/plain": [
       "<Figure size 432x288 with 1 Axes>"
      ]
     },
     "metadata": {},
     "output_type": "display_data"
    }
   ],
   "source": [
    "plt.pie(lab_cnt,labels=lab_cnt.index,autopct='%.2f%%')\n",
    "plt.title('Male and Female in Laborers who apply for loan')\n",
    "plt.show()"
   ]
  },
  {
   "cell_type": "code",
   "execution_count": 38,
   "id": "255be35c",
   "metadata": {},
   "outputs": [
    {
     "data": {
      "image/png": "[encoded data removed]",
      "text/plain": [
       "<Figure size 432x288 with 1 Axes>"
      ]
     },
     "metadata": {
      "needs_background": "light"
     },
     "output_type": "display_data"
    }
   ],
   "source": [
    "sb.countplot(x='NAME_CONTRACT_TYPE',hue='GENDER',data=lab_data)\n",
    "plt.show()"
   ]
  },
  {
   "cell_type": "markdown",
   "id": "27aa6b13",
   "metadata": {},
   "source": [
    "### Interpretation: 64% of Female in Laborers who apply for loan."
   ]
  },
  {
   "cell_type": "code",
   "execution_count": 39,
   "id": "8eea77d6",
   "metadata": {},
   "outputs": [
    {
     "data": {
      "text/plain": [
       "N    34261\n",
       "Y    14940\n",
       "Name: Car, dtype: int64"
      ]
     },
     "execution_count": 39,
     "metadata": {},
     "output_type": "execute_result"
    }
   ],
   "source": [
    "car_cnt=lab_data['Car'].value_counts()\n",
    "car_cnt"
   ]
  },
  {
   "cell_type": "code",
   "execution_count": 40,
   "id": "0b5ce351",
   "metadata": {},
   "outputs": [
    {
     "data": {
      "image/png": "[encoded data removed]",
      "text/plain": [
       "<Figure size 864x432 with 2 Axes>"
      ]
     },
     "metadata": {
      "needs_background": "light"
     },
     "output_type": "display_data"
    }
   ],
   "source": [
    "plt.figure(figsize=(12,6))\n",
    "plt.subplot(121)\n",
    "sb.countplot(x='NAME_CONTRACT_TYPE', hue='Car', data=lab_data)\n",
    "plt.title('Contract Type vs House')\n",
    "plt.xlabel('Contract Type')\n",
    "plt.ylabel('Count')\n",
    "\n",
    "plt.subplot(122)\n",
    "plt.pie(car_cnt,labels=car_cnt.index,autopct='%.2f%%')\n",
    "plt.show()"
   ]
  },
  {
   "cell_type": "markdown",
   "id": "3b30fb43",
   "metadata": {},
   "source": [
    "### Interpretation:In Laborers  only 30% client have own Car."
   ]
  },
  {
   "cell_type": "code",
   "execution_count": 45,
   "id": "f72f0e47",
   "metadata": {
    "scrolled": true
   },
   "outputs": [
    {
     "data": {
      "image/png": "[encoded data removed]",
      "text/plain": [
       "<Figure size 432x288 with 1 Axes>"
      ]
     },
     "metadata": {
      "needs_background": "light"
     },
     "output_type": "display_data"
    }
   ],
   "source": [
    "sb.countplot(y='NAME_FAMILY_STATUS',hue='GENDER',data=df_credit_data)\n",
    "plt.show()"
   ]
  },
  {
   "cell_type": "markdown",
   "id": "6c285961",
   "metadata": {},
   "source": [
    "### Interpretation: Married clients applyed for loan. and Female clients count are more than Male to applyed for loan."
   ]
  },
  {
   "cell_type": "markdown",
   "id": "340ff05c",
   "metadata": {},
   "source": [
    "# \"Now we focus on TARGET,Target variable (1 - client with payment difficulties: he/she had late payment more than X days on at least one of the first Y installments of the loan in our sample\""
   ]
  },
  {
   "cell_type": "code",
   "execution_count": 48,
   "id": "46ed292e",
   "metadata": {},
   "outputs": [
    {
     "data": {
      "text/html": [
       "<div>\n",
       "<style scoped>\n",
       "    .dataframe tbody tr th:only-of-type {\n",
       "        vertical-align: middle;\n",
       "    }\n",
       "\n",
       "    .dataframe tbody tr th {\n",
       "        vertical-align: top;\n",
       "    }\n",
       "\n",
       "    .dataframe thead th {\n",
       "        text-align: right;\n",
       "    }\n",
       "</style>\n",
       "<table border=\"1\" class=\"dataframe\">\n",
       "  <thead>\n",
       "    <tr style=\"text-align: right;\">\n",
       "      <th></th>\n",
       "      <th>SK_ID_CURR</th>\n",
       "      <th>TARGET</th>\n",
       "      <th>NAME_CONTRACT_TYPE</th>\n",
       "      <th>GENDER</th>\n",
       "      <th>Car</th>\n",
       "      <th>House</th>\n",
       "      <th>CNT_CHILDREN</th>\n",
       "      <th>AMT_INCOME_TOTAL</th>\n",
       "      <th>AMT_CREDIT</th>\n",
       "      <th>AMT_GOODS_PRICE</th>\n",
       "      <th>...</th>\n",
       "      <th>DAYS_EMPLOYED</th>\n",
       "      <th>MOBILE</th>\n",
       "      <th>WORK_PHONE</th>\n",
       "      <th>HOME_PHONE</th>\n",
       "      <th>MOBILE_REACHABLE</th>\n",
       "      <th>FLAG_EMAIL</th>\n",
       "      <th>OCCUPATION_TYPE</th>\n",
       "      <th>CNT_FAM_MEMBERS</th>\n",
       "      <th>APPLICATION_DAY</th>\n",
       "      <th>TOTAL_DOC_SUBMITTED</th>\n",
       "    </tr>\n",
       "  </thead>\n",
       "  <tbody>\n",
       "    <tr>\n",
       "      <th>0</th>\n",
       "      <td>100002</td>\n",
       "      <td>1</td>\n",
       "      <td>Cash loans</td>\n",
       "      <td>M</td>\n",
       "      <td>N</td>\n",
       "      <td>Y</td>\n",
       "      <td>0</td>\n",
       "      <td>202500.0</td>\n",
       "      <td>406597.5</td>\n",
       "      <td>351000.0</td>\n",
       "      <td>...</td>\n",
       "      <td>-637</td>\n",
       "      <td>1</td>\n",
       "      <td>1</td>\n",
       "      <td>0</td>\n",
       "      <td>1</td>\n",
       "      <td>0</td>\n",
       "      <td>Laborers</td>\n",
       "      <td>1.0</td>\n",
       "      <td>WEDNESDAY</td>\n",
       "      <td>1</td>\n",
       "    </tr>\n",
       "    <tr>\n",
       "      <th>26</th>\n",
       "      <td>100031</td>\n",
       "      <td>1</td>\n",
       "      <td>Cash loans</td>\n",
       "      <td>F</td>\n",
       "      <td>N</td>\n",
       "      <td>Y</td>\n",
       "      <td>0</td>\n",
       "      <td>112500.0</td>\n",
       "      <td>979992.0</td>\n",
       "      <td>702000.0</td>\n",
       "      <td>...</td>\n",
       "      <td>-2628</td>\n",
       "      <td>1</td>\n",
       "      <td>1</td>\n",
       "      <td>0</td>\n",
       "      <td>1</td>\n",
       "      <td>0</td>\n",
       "      <td>Cooking staff</td>\n",
       "      <td>1.0</td>\n",
       "      <td>MONDAY</td>\n",
       "      <td>2</td>\n",
       "    </tr>\n",
       "    <tr>\n",
       "      <th>40</th>\n",
       "      <td>100047</td>\n",
       "      <td>1</td>\n",
       "      <td>Cash loans</td>\n",
       "      <td>M</td>\n",
       "      <td>N</td>\n",
       "      <td>Y</td>\n",
       "      <td>0</td>\n",
       "      <td>202500.0</td>\n",
       "      <td>1193580.0</td>\n",
       "      <td>855000.0</td>\n",
       "      <td>...</td>\n",
       "      <td>-1262</td>\n",
       "      <td>1</td>\n",
       "      <td>1</td>\n",
       "      <td>0</td>\n",
       "      <td>1</td>\n",
       "      <td>0</td>\n",
       "      <td>Laborers</td>\n",
       "      <td>2.0</td>\n",
       "      <td>TUESDAY</td>\n",
       "      <td>1</td>\n",
       "    </tr>\n",
       "    <tr>\n",
       "      <th>42</th>\n",
       "      <td>100049</td>\n",
       "      <td>1</td>\n",
       "      <td>Cash loans</td>\n",
       "      <td>F</td>\n",
       "      <td>N</td>\n",
       "      <td>N</td>\n",
       "      <td>0</td>\n",
       "      <td>135000.0</td>\n",
       "      <td>288873.0</td>\n",
       "      <td>238500.0</td>\n",
       "      <td>...</td>\n",
       "      <td>-3597</td>\n",
       "      <td>1</td>\n",
       "      <td>1</td>\n",
       "      <td>1</td>\n",
       "      <td>1</td>\n",
       "      <td>0</td>\n",
       "      <td>Sales staff</td>\n",
       "      <td>2.0</td>\n",
       "      <td>THURSDAY</td>\n",
       "      <td>1</td>\n",
       "    </tr>\n",
       "    <tr>\n",
       "      <th>81</th>\n",
       "      <td>100096</td>\n",
       "      <td>1</td>\n",
       "      <td>Cash loans</td>\n",
       "      <td>F</td>\n",
       "      <td>N</td>\n",
       "      <td>Y</td>\n",
       "      <td>0</td>\n",
       "      <td>81000.0</td>\n",
       "      <td>252000.0</td>\n",
       "      <td>252000.0</td>\n",
       "      <td>...</td>\n",
       "      <td>365243</td>\n",
       "      <td>1</td>\n",
       "      <td>0</td>\n",
       "      <td>0</td>\n",
       "      <td>1</td>\n",
       "      <td>0</td>\n",
       "      <td>NaN</td>\n",
       "      <td>2.0</td>\n",
       "      <td>THURSDAY</td>\n",
       "      <td>1</td>\n",
       "    </tr>\n",
       "    <tr>\n",
       "      <th>...</th>\n",
       "      <td>...</td>\n",
       "      <td>...</td>\n",
       "      <td>...</td>\n",
       "      <td>...</td>\n",
       "      <td>...</td>\n",
       "      <td>...</td>\n",
       "      <td>...</td>\n",
       "      <td>...</td>\n",
       "      <td>...</td>\n",
       "      <td>...</td>\n",
       "      <td>...</td>\n",
       "      <td>...</td>\n",
       "      <td>...</td>\n",
       "      <td>...</td>\n",
       "      <td>...</td>\n",
       "      <td>...</td>\n",
       "      <td>...</td>\n",
       "      <td>...</td>\n",
       "      <td>...</td>\n",
       "      <td>...</td>\n",
       "      <td>...</td>\n",
       "    </tr>\n",
       "    <tr>\n",
       "      <th>99924</th>\n",
       "      <td>216008</td>\n",
       "      <td>1</td>\n",
       "      <td>Cash loans</td>\n",
       "      <td>M</td>\n",
       "      <td>N</td>\n",
       "      <td>Y</td>\n",
       "      <td>0</td>\n",
       "      <td>247500.0</td>\n",
       "      <td>509400.0</td>\n",
       "      <td>450000.0</td>\n",
       "      <td>...</td>\n",
       "      <td>-586</td>\n",
       "      <td>1</td>\n",
       "      <td>1</td>\n",
       "      <td>0</td>\n",
       "      <td>1</td>\n",
       "      <td>0</td>\n",
       "      <td>NaN</td>\n",
       "      <td>1.0</td>\n",
       "      <td>FRIDAY</td>\n",
       "      <td>1</td>\n",
       "    </tr>\n",
       "    <tr>\n",
       "      <th>99932</th>\n",
       "      <td>216017</td>\n",
       "      <td>1</td>\n",
       "      <td>Cash loans</td>\n",
       "      <td>F</td>\n",
       "      <td>N</td>\n",
       "      <td>N</td>\n",
       "      <td>0</td>\n",
       "      <td>180000.0</td>\n",
       "      <td>485640.0</td>\n",
       "      <td>450000.0</td>\n",
       "      <td>...</td>\n",
       "      <td>-767</td>\n",
       "      <td>1</td>\n",
       "      <td>1</td>\n",
       "      <td>1</td>\n",
       "      <td>1</td>\n",
       "      <td>0</td>\n",
       "      <td>Sales staff</td>\n",
       "      <td>2.0</td>\n",
       "      <td>FRIDAY</td>\n",
       "      <td>1</td>\n",
       "    </tr>\n",
       "    <tr>\n",
       "      <th>99935</th>\n",
       "      <td>216021</td>\n",
       "      <td>1</td>\n",
       "      <td>Cash loans</td>\n",
       "      <td>F</td>\n",
       "      <td>N</td>\n",
       "      <td>Y</td>\n",
       "      <td>0</td>\n",
       "      <td>243000.0</td>\n",
       "      <td>495882.0</td>\n",
       "      <td>405000.0</td>\n",
       "      <td>...</td>\n",
       "      <td>-1662</td>\n",
       "      <td>1</td>\n",
       "      <td>1</td>\n",
       "      <td>0</td>\n",
       "      <td>1</td>\n",
       "      <td>0</td>\n",
       "      <td>Laborers</td>\n",
       "      <td>2.0</td>\n",
       "      <td>SATURDAY</td>\n",
       "      <td>1</td>\n",
       "    </tr>\n",
       "    <tr>\n",
       "      <th>99965</th>\n",
       "      <td>216055</td>\n",
       "      <td>1</td>\n",
       "      <td>Cash loans</td>\n",
       "      <td>F</td>\n",
       "      <td>Y</td>\n",
       "      <td>Y</td>\n",
       "      <td>0</td>\n",
       "      <td>225000.0</td>\n",
       "      <td>809136.0</td>\n",
       "      <td>643500.0</td>\n",
       "      <td>...</td>\n",
       "      <td>-1669</td>\n",
       "      <td>1</td>\n",
       "      <td>1</td>\n",
       "      <td>0</td>\n",
       "      <td>1</td>\n",
       "      <td>0</td>\n",
       "      <td>NaN</td>\n",
       "      <td>2.0</td>\n",
       "      <td>SATURDAY</td>\n",
       "      <td>1</td>\n",
       "    </tr>\n",
       "    <tr>\n",
       "      <th>99967</th>\n",
       "      <td>216057</td>\n",
       "      <td>1</td>\n",
       "      <td>Cash loans</td>\n",
       "      <td>M</td>\n",
       "      <td>N</td>\n",
       "      <td>N</td>\n",
       "      <td>0</td>\n",
       "      <td>54000.0</td>\n",
       "      <td>360000.0</td>\n",
       "      <td>360000.0</td>\n",
       "      <td>...</td>\n",
       "      <td>-3190</td>\n",
       "      <td>1</td>\n",
       "      <td>1</td>\n",
       "      <td>1</td>\n",
       "      <td>1</td>\n",
       "      <td>0</td>\n",
       "      <td>Core staff</td>\n",
       "      <td>1.0</td>\n",
       "      <td>THURSDAY</td>\n",
       "      <td>1</td>\n",
       "    </tr>\n",
       "  </tbody>\n",
       "</table>\n",
       "<p>8093 rows × 24 columns</p>\n",
       "</div>"
      ],
      "text/plain": [
       "       SK_ID_CURR  TARGET NAME_CONTRACT_TYPE GENDER Car House  CNT_CHILDREN  \\\n",
       "0          100002       1         Cash loans      M   N     Y             0   \n",
       "26         100031       1         Cash loans      F   N     Y             0   \n",
       "40         100047       1         Cash loans      M   N     Y             0   \n",
       "42         100049       1         Cash loans      F   N     N             0   \n",
       "81         100096       1         Cash loans      F   N     Y             0   \n",
       "...           ...     ...                ...    ...  ..   ...           ...   \n",
       "99924      216008       1         Cash loans      M   N     Y             0   \n",
       "99932      216017       1         Cash loans      F   N     N             0   \n",
       "99935      216021       1         Cash loans      F   N     Y             0   \n",
       "99965      216055       1         Cash loans      F   Y     Y             0   \n",
       "99967      216057       1         Cash loans      M   N     N             0   \n",
       "\n",
       "       AMT_INCOME_TOTAL  AMT_CREDIT  AMT_GOODS_PRICE  ... DAYS_EMPLOYED  \\\n",
       "0              202500.0    406597.5         351000.0  ...          -637   \n",
       "26             112500.0    979992.0         702000.0  ...         -2628   \n",
       "40             202500.0   1193580.0         855000.0  ...         -1262   \n",
       "42             135000.0    288873.0         238500.0  ...         -3597   \n",
       "81              81000.0    252000.0         252000.0  ...        365243   \n",
       "...                 ...         ...              ...  ...           ...   \n",
       "99924          247500.0    509400.0         450000.0  ...          -586   \n",
       "99932          180000.0    485640.0         450000.0  ...          -767   \n",
       "99935          243000.0    495882.0         405000.0  ...         -1662   \n",
       "99965          225000.0    809136.0         643500.0  ...         -1669   \n",
       "99967           54000.0    360000.0         360000.0  ...         -3190   \n",
       "\n",
       "      MOBILE WORK_PHONE HOME_PHONE  MOBILE_REACHABLE  FLAG_EMAIL  \\\n",
       "0          1          1          0                 1           0   \n",
       "26         1          1          0                 1           0   \n",
       "40         1          1          0                 1           0   \n",
       "42         1          1          1                 1           0   \n",
       "81         1          0          0                 1           0   \n",
       "...      ...        ...        ...               ...         ...   \n",
       "99924      1          1          0                 1           0   \n",
       "99932      1          1          1                 1           0   \n",
       "99935      1          1          0                 1           0   \n",
       "99965      1          1          0                 1           0   \n",
       "99967      1          1          1                 1           0   \n",
       "\n",
       "       OCCUPATION_TYPE  CNT_FAM_MEMBERS  APPLICATION_DAY  TOTAL_DOC_SUBMITTED  \n",
       "0             Laborers              1.0        WEDNESDAY                    1  \n",
       "26       Cooking staff              1.0           MONDAY                    2  \n",
       "40            Laborers              2.0          TUESDAY                    1  \n",
       "42         Sales staff              2.0         THURSDAY                    1  \n",
       "81                 NaN              2.0         THURSDAY                    1  \n",
       "...                ...              ...              ...                  ...  \n",
       "99924              NaN              1.0           FRIDAY                    1  \n",
       "99932      Sales staff              2.0           FRIDAY                    1  \n",
       "99935         Laborers              2.0         SATURDAY                    1  \n",
       "99965              NaN              2.0         SATURDAY                    1  \n",
       "99967       Core staff              1.0         THURSDAY                    1  \n",
       "\n",
       "[8093 rows x 24 columns]"
      ]
     },
     "execution_count": 48,
     "metadata": {},
     "output_type": "execute_result"
    }
   ],
   "source": [
    "not_pay=df_credit_data[df_credit_data['TARGET']==1]\n",
    "not_pay"
   ]
  },
  {
   "cell_type": "markdown",
   "id": "2b00cb39",
   "metadata": {},
   "source": [
    "# LEVEL 1 ANALYSIS –UNIVARATE ANALYSIS"
   ]
  },
  {
   "cell_type": "markdown",
   "id": "79ce2ccd",
   "metadata": {},
   "source": [
    "### How many clients applied for cash loans and Revolving loans who with payment difficulties"
   ]
  },
  {
   "cell_type": "code",
   "execution_count": 50,
   "id": "4c4afba3",
   "metadata": {},
   "outputs": [
    {
     "data": {
      "text/plain": [
       "Cash loans         7562\n",
       "Revolving loans     531\n",
       "Name: NAME_CONTRACT_TYPE, dtype: int64"
      ]
     },
     "execution_count": 50,
     "metadata": {},
     "output_type": "execute_result"
    }
   ],
   "source": [
    "not_pay_contract_type=not_pay['NAME_CONTRACT_TYPE'].value_counts()\n",
    "not_pay_contract_type"
   ]
  },
  {
   "cell_type": "code",
   "execution_count": 52,
   "id": "e800a96e",
   "metadata": {},
   "outputs": [
    {
     "data": {
      "image/png": "[encoded data removed]",
      "text/plain": [
       "<Figure size 864x432 with 2 Axes>"
      ]
     },
     "metadata": {
      "needs_background": "light"
     },
     "output_type": "display_data"
    }
   ],
   "source": [
    "plt.figure(figsize=(12,6))\n",
    "plt.subplot(121)\n",
    "\n",
    "sb.barplot(x=not_pay_contract_type.index,y=not_pay_contract_type.values)\n",
    "plt.xlabel('Contract Type')\n",
    "plt.ylabel('count')\n",
    "plt.title('Number of client who apply for Cash loans and Revolving loans')\n",
    "\n",
    "plt.subplot(122)\n",
    "plt.pie(not_pay_contract_type,labels=not_pay_contract_type.index,autopct=\"%.2f%%\")\n",
    "plt.show()"
   ]
  },
  {
   "cell_type": "markdown",
   "id": "eb36efe3",
   "metadata": {},
   "source": [
    "#### Interpretation: There are 93% of clients applied for cash loans and 7% of clients for Revolving loans who have difficulties to pay loan"
   ]
  },
  {
   "cell_type": "markdown",
   "id": "5c441197",
   "metadata": {},
   "source": [
    "### Genterwise applied for loan who have difficulties to pay loan"
   ]
  },
  {
   "cell_type": "code",
   "execution_count": 53,
   "id": "a2f4e63a",
   "metadata": {},
   "outputs": [
    {
     "data": {
      "text/plain": [
       "F    4615\n",
       "M    3478\n",
       "Name: GENDER, dtype: int64"
      ]
     },
     "execution_count": 53,
     "metadata": {},
     "output_type": "execute_result"
    }
   ],
   "source": [
    "gen_loan=not_pay['GENDER'].value_counts()\n",
    "gen_loan"
   ]
  },
  {
   "cell_type": "code",
   "execution_count": 55,
   "id": "e2a473b7",
   "metadata": {},
   "outputs": [
    {
     "data": {
      "image/png": "[encoded data removed]",
      "text/plain": [
       "<Figure size 864x432 with 2 Axes>"
      ]
     },
     "metadata": {
      "needs_background": "light"
     },
     "output_type": "display_data"
    }
   ],
   "source": [
    "plt.figure(figsize=(12,6))\n",
    "plt.subplot(121)\n",
    "\n",
    "sb.barplot(x=gen_loan.index,y=gen_loan.values)\n",
    "plt.xlabel('Gender')\n",
    "plt.ylabel('count')\n",
    "plt.title('Number of Male and Female clients who have difficulties to pay loans')\n",
    "\n",
    "plt.subplot(122)\n",
    "plt.pie(gen_loan,labels=gen_loan.index,autopct=\"%.2f%%\")\n",
    "plt.show()"
   ]
  },
  {
   "cell_type": "markdown",
   "id": "de5c549a",
   "metadata": {},
   "source": [
    "#### Interpretation: 57% Female and 43% of Male clients who have difficulties to pay loans."
   ]
  },
  {
   "cell_type": "code",
   "execution_count": null,
   "id": "018787b5",
   "metadata": {},
   "outputs": [],
   "source": []
  },
  {
   "cell_type": "markdown",
   "id": "6962972f",
   "metadata": {},
   "source": [
    "# LEVEL 2 ANALYSIS – BIVARATE ANALYSIS"
   ]
  },
  {
   "cell_type": "markdown",
   "id": "af8644ef",
   "metadata": {},
   "source": [
    "### analysis client have own car who have difficulties to pay loans."
   ]
  },
  {
   "cell_type": "code",
   "execution_count": 58,
   "id": "bfa99e38",
   "metadata": {
    "scrolled": true
   },
   "outputs": [
    {
     "data": {
      "image/png": "[encoded data removed]",
      "text/plain": [
       "<Figure size 864x432 with 1 Axes>"
      ]
     },
     "metadata": {
      "needs_background": "light"
     },
     "output_type": "display_data"
    }
   ],
   "source": [
    "plt.figure(figsize=(12,6))\n",
    "sb.countplot(x='NAME_CONTRACT_TYPE',hue='Car',data=not_pay)\n",
    "plt.show()"
   ]
  },
  {
   "cell_type": "markdown",
   "id": "8f3df97f",
   "metadata": {},
   "source": [
    "#### Interpretation: Cash loans and Revolving loans both cases don't have own cars"
   ]
  },
  {
   "cell_type": "code",
   "execution_count": 59,
   "id": "7fb7aa64",
   "metadata": {
    "scrolled": true
   },
   "outputs": [
    {
     "data": {
      "image/png": "[encoded data removed]",
      "text/plain": [
       "<Figure size 864x432 with 1 Axes>"
      ]
     },
     "metadata": {
      "needs_background": "light"
     },
     "output_type": "display_data"
    }
   ],
   "source": [
    "plt.figure(figsize=(12,6))\n",
    "sb.countplot(x='NAME_CONTRACT_TYPE',hue='House',data=not_pay)\n",
    "plt.show()"
   ]
  },
  {
   "cell_type": "markdown",
   "id": "b180e9c5",
   "metadata": {},
   "source": [
    "#### Interpretation: Cash loans and Revolving loans both cases have own Houses"
   ]
  },
  {
   "cell_type": "code",
   "execution_count": 60,
   "id": "3ea89390",
   "metadata": {},
   "outputs": [
    {
     "data": {
      "image/png": "[encoded data removed]",
      "text/plain": [
       "<Figure size 864x576 with 1 Axes>"
      ]
     },
     "metadata": {
      "needs_background": "light"
     },
     "output_type": "display_data"
    }
   ],
   "source": [
    "plt.figure(figsize=(12,8))\n",
    "sb.countplot(y='OCCUPATION_TYPE',hue='GENDER',data=not_pay)\n",
    "plt.show()"
   ]
  },
  {
   "cell_type": "markdown",
   "id": "6a188e96",
   "metadata": {},
   "source": [
    "#### Interpretation: Labores,sale_staff and driver Occupation have difficulties to pay loans."
   ]
  },
  {
   "cell_type": "code",
   "execution_count": 62,
   "id": "f239c2e3",
   "metadata": {},
   "outputs": [
    {
     "data": {
      "text/plain": [
       "Index(['SK_ID_CURR', 'TARGET', 'NAME_CONTRACT_TYPE', 'GENDER', 'Car', 'House',\n",
       "       'CNT_CHILDREN', 'AMT_INCOME_TOTAL', 'AMT_CREDIT', 'AMT_GOODS_PRICE',\n",
       "       'NAME_TYPE_SUITE', 'NAME_INCOME_TYPE', 'NAME_EDUCATION_TYPE',\n",
       "       'NAME_FAMILY_STATUS', 'DAYS_EMPLOYED', 'MOBILE', 'WORK_PHONE',\n",
       "       'HOME_PHONE', 'MOBILE_REACHABLE', 'FLAG_EMAIL', 'OCCUPATION_TYPE',\n",
       "       'CNT_FAM_MEMBERS', 'APPLICATION_DAY', 'TOTAL_DOC_SUBMITTED'],\n",
       "      dtype='object')"
      ]
     },
     "execution_count": 62,
     "metadata": {},
     "output_type": "execute_result"
    }
   ],
   "source": [
    "not_pay.columns"
   ]
  },
  {
   "cell_type": "code",
   "execution_count": 86,
   "id": "63eb2482",
   "metadata": {},
   "outputs": [
    {
     "data": {
      "text/html": [
       "<div>\n",
       "<style scoped>\n",
       "    .dataframe tbody tr th:only-of-type {\n",
       "        vertical-align: middle;\n",
       "    }\n",
       "\n",
       "    .dataframe tbody tr th {\n",
       "        vertical-align: top;\n",
       "    }\n",
       "\n",
       "    .dataframe thead th {\n",
       "        text-align: right;\n",
       "    }\n",
       "</style>\n",
       "<table border=\"1\" class=\"dataframe\">\n",
       "  <thead>\n",
       "    <tr style=\"text-align: right;\">\n",
       "      <th></th>\n",
       "      <th>SK_ID_CURR</th>\n",
       "      <th>TARGET</th>\n",
       "      <th>NAME_CONTRACT_TYPE</th>\n",
       "      <th>GENDER</th>\n",
       "      <th>Car</th>\n",
       "      <th>House</th>\n",
       "      <th>CNT_CHILDREN</th>\n",
       "      <th>AMT_INCOME_TOTAL</th>\n",
       "      <th>AMT_CREDIT</th>\n",
       "      <th>AMT_GOODS_PRICE</th>\n",
       "      <th>...</th>\n",
       "      <th>DAYS_EMPLOYED</th>\n",
       "      <th>MOBILE</th>\n",
       "      <th>WORK_PHONE</th>\n",
       "      <th>HOME_PHONE</th>\n",
       "      <th>MOBILE_REACHABLE</th>\n",
       "      <th>FLAG_EMAIL</th>\n",
       "      <th>OCCUPATION_TYPE</th>\n",
       "      <th>CNT_FAM_MEMBERS</th>\n",
       "      <th>APPLICATION_DAY</th>\n",
       "      <th>TOTAL_DOC_SUBMITTED</th>\n",
       "    </tr>\n",
       "  </thead>\n",
       "  <tbody>\n",
       "    <tr>\n",
       "      <th>0</th>\n",
       "      <td>100002</td>\n",
       "      <td>1</td>\n",
       "      <td>Cash loans</td>\n",
       "      <td>M</td>\n",
       "      <td>N</td>\n",
       "      <td>Y</td>\n",
       "      <td>0</td>\n",
       "      <td>202500.0</td>\n",
       "      <td>406597.5</td>\n",
       "      <td>351000.0</td>\n",
       "      <td>...</td>\n",
       "      <td>-637</td>\n",
       "      <td>1</td>\n",
       "      <td>1</td>\n",
       "      <td>0</td>\n",
       "      <td>1</td>\n",
       "      <td>0</td>\n",
       "      <td>Laborers</td>\n",
       "      <td>1.0</td>\n",
       "      <td>WEDNESDAY</td>\n",
       "      <td>1</td>\n",
       "    </tr>\n",
       "    <tr>\n",
       "      <th>40</th>\n",
       "      <td>100047</td>\n",
       "      <td>1</td>\n",
       "      <td>Cash loans</td>\n",
       "      <td>M</td>\n",
       "      <td>N</td>\n",
       "      <td>Y</td>\n",
       "      <td>0</td>\n",
       "      <td>202500.0</td>\n",
       "      <td>1193580.0</td>\n",
       "      <td>855000.0</td>\n",
       "      <td>...</td>\n",
       "      <td>-1262</td>\n",
       "      <td>1</td>\n",
       "      <td>1</td>\n",
       "      <td>0</td>\n",
       "      <td>1</td>\n",
       "      <td>0</td>\n",
       "      <td>Laborers</td>\n",
       "      <td>2.0</td>\n",
       "      <td>TUESDAY</td>\n",
       "      <td>1</td>\n",
       "    </tr>\n",
       "    <tr>\n",
       "      <th>110</th>\n",
       "      <td>100130</td>\n",
       "      <td>1</td>\n",
       "      <td>Cash loans</td>\n",
       "      <td>F</td>\n",
       "      <td>N</td>\n",
       "      <td>Y</td>\n",
       "      <td>1</td>\n",
       "      <td>157500.0</td>\n",
       "      <td>723996.0</td>\n",
       "      <td>585000.0</td>\n",
       "      <td>...</td>\n",
       "      <td>-267</td>\n",
       "      <td>1</td>\n",
       "      <td>1</td>\n",
       "      <td>0</td>\n",
       "      <td>1</td>\n",
       "      <td>0</td>\n",
       "      <td>Sales staff</td>\n",
       "      <td>2.0</td>\n",
       "      <td>SUNDAY</td>\n",
       "      <td>1</td>\n",
       "    </tr>\n",
       "    <tr>\n",
       "      <th>138</th>\n",
       "      <td>100160</td>\n",
       "      <td>1</td>\n",
       "      <td>Cash loans</td>\n",
       "      <td>M</td>\n",
       "      <td>N</td>\n",
       "      <td>Y</td>\n",
       "      <td>0</td>\n",
       "      <td>292500.0</td>\n",
       "      <td>675000.0</td>\n",
       "      <td>675000.0</td>\n",
       "      <td>...</td>\n",
       "      <td>-200</td>\n",
       "      <td>1</td>\n",
       "      <td>1</td>\n",
       "      <td>1</td>\n",
       "      <td>1</td>\n",
       "      <td>0</td>\n",
       "      <td>Managers</td>\n",
       "      <td>2.0</td>\n",
       "      <td>FRIDAY</td>\n",
       "      <td>1</td>\n",
       "    </tr>\n",
       "    <tr>\n",
       "      <th>163</th>\n",
       "      <td>100192</td>\n",
       "      <td>1</td>\n",
       "      <td>Cash loans</td>\n",
       "      <td>F</td>\n",
       "      <td>N</td>\n",
       "      <td>N</td>\n",
       "      <td>0</td>\n",
       "      <td>111915.0</td>\n",
       "      <td>225000.0</td>\n",
       "      <td>225000.0</td>\n",
       "      <td>...</td>\n",
       "      <td>-150</td>\n",
       "      <td>1</td>\n",
       "      <td>1</td>\n",
       "      <td>1</td>\n",
       "      <td>1</td>\n",
       "      <td>0</td>\n",
       "      <td>Core staff</td>\n",
       "      <td>1.0</td>\n",
       "      <td>FRIDAY</td>\n",
       "      <td>0</td>\n",
       "    </tr>\n",
       "    <tr>\n",
       "      <th>...</th>\n",
       "      <td>...</td>\n",
       "      <td>...</td>\n",
       "      <td>...</td>\n",
       "      <td>...</td>\n",
       "      <td>...</td>\n",
       "      <td>...</td>\n",
       "      <td>...</td>\n",
       "      <td>...</td>\n",
       "      <td>...</td>\n",
       "      <td>...</td>\n",
       "      <td>...</td>\n",
       "      <td>...</td>\n",
       "      <td>...</td>\n",
       "      <td>...</td>\n",
       "      <td>...</td>\n",
       "      <td>...</td>\n",
       "      <td>...</td>\n",
       "      <td>...</td>\n",
       "      <td>...</td>\n",
       "      <td>...</td>\n",
       "      <td>...</td>\n",
       "    </tr>\n",
       "    <tr>\n",
       "      <th>99753</th>\n",
       "      <td>215806</td>\n",
       "      <td>1</td>\n",
       "      <td>Cash loans</td>\n",
       "      <td>F</td>\n",
       "      <td>N</td>\n",
       "      <td>Y</td>\n",
       "      <td>0</td>\n",
       "      <td>180000.0</td>\n",
       "      <td>1125000.0</td>\n",
       "      <td>1125000.0</td>\n",
       "      <td>...</td>\n",
       "      <td>-1291</td>\n",
       "      <td>1</td>\n",
       "      <td>1</td>\n",
       "      <td>1</td>\n",
       "      <td>1</td>\n",
       "      <td>1</td>\n",
       "      <td>NaN</td>\n",
       "      <td>2.0</td>\n",
       "      <td>THURSDAY</td>\n",
       "      <td>1</td>\n",
       "    </tr>\n",
       "    <tr>\n",
       "      <th>99857</th>\n",
       "      <td>215926</td>\n",
       "      <td>1</td>\n",
       "      <td>Cash loans</td>\n",
       "      <td>M</td>\n",
       "      <td>Y</td>\n",
       "      <td>N</td>\n",
       "      <td>0</td>\n",
       "      <td>157500.0</td>\n",
       "      <td>225000.0</td>\n",
       "      <td>225000.0</td>\n",
       "      <td>...</td>\n",
       "      <td>-612</td>\n",
       "      <td>1</td>\n",
       "      <td>1</td>\n",
       "      <td>0</td>\n",
       "      <td>1</td>\n",
       "      <td>0</td>\n",
       "      <td>Drivers</td>\n",
       "      <td>2.0</td>\n",
       "      <td>THURSDAY</td>\n",
       "      <td>1</td>\n",
       "    </tr>\n",
       "    <tr>\n",
       "      <th>99884</th>\n",
       "      <td>215960</td>\n",
       "      <td>1</td>\n",
       "      <td>Cash loans</td>\n",
       "      <td>F</td>\n",
       "      <td>N</td>\n",
       "      <td>N</td>\n",
       "      <td>1</td>\n",
       "      <td>67500.0</td>\n",
       "      <td>215640.0</td>\n",
       "      <td>180000.0</td>\n",
       "      <td>...</td>\n",
       "      <td>-644</td>\n",
       "      <td>1</td>\n",
       "      <td>1</td>\n",
       "      <td>1</td>\n",
       "      <td>1</td>\n",
       "      <td>0</td>\n",
       "      <td>NaN</td>\n",
       "      <td>2.0</td>\n",
       "      <td>MONDAY</td>\n",
       "      <td>1</td>\n",
       "    </tr>\n",
       "    <tr>\n",
       "      <th>99924</th>\n",
       "      <td>216008</td>\n",
       "      <td>1</td>\n",
       "      <td>Cash loans</td>\n",
       "      <td>M</td>\n",
       "      <td>N</td>\n",
       "      <td>Y</td>\n",
       "      <td>0</td>\n",
       "      <td>247500.0</td>\n",
       "      <td>509400.0</td>\n",
       "      <td>450000.0</td>\n",
       "      <td>...</td>\n",
       "      <td>-586</td>\n",
       "      <td>1</td>\n",
       "      <td>1</td>\n",
       "      <td>0</td>\n",
       "      <td>1</td>\n",
       "      <td>0</td>\n",
       "      <td>NaN</td>\n",
       "      <td>1.0</td>\n",
       "      <td>FRIDAY</td>\n",
       "      <td>1</td>\n",
       "    </tr>\n",
       "    <tr>\n",
       "      <th>99932</th>\n",
       "      <td>216017</td>\n",
       "      <td>1</td>\n",
       "      <td>Cash loans</td>\n",
       "      <td>F</td>\n",
       "      <td>N</td>\n",
       "      <td>N</td>\n",
       "      <td>0</td>\n",
       "      <td>180000.0</td>\n",
       "      <td>485640.0</td>\n",
       "      <td>450000.0</td>\n",
       "      <td>...</td>\n",
       "      <td>-767</td>\n",
       "      <td>1</td>\n",
       "      <td>1</td>\n",
       "      <td>1</td>\n",
       "      <td>1</td>\n",
       "      <td>0</td>\n",
       "      <td>Sales staff</td>\n",
       "      <td>2.0</td>\n",
       "      <td>FRIDAY</td>\n",
       "      <td>1</td>\n",
       "    </tr>\n",
       "  </tbody>\n",
       "</table>\n",
       "<p>4008 rows × 24 columns</p>\n",
       "</div>"
      ],
      "text/plain": [
       "       SK_ID_CURR  TARGET NAME_CONTRACT_TYPE GENDER Car House  CNT_CHILDREN  \\\n",
       "0          100002       1         Cash loans      M   N     Y             0   \n",
       "40         100047       1         Cash loans      M   N     Y             0   \n",
       "110        100130       1         Cash loans      F   N     Y             1   \n",
       "138        100160       1         Cash loans      M   N     Y             0   \n",
       "163        100192       1         Cash loans      F   N     N             0   \n",
       "...           ...     ...                ...    ...  ..   ...           ...   \n",
       "99753      215806       1         Cash loans      F   N     Y             0   \n",
       "99857      215926       1         Cash loans      M   Y     N             0   \n",
       "99884      215960       1         Cash loans      F   N     N             1   \n",
       "99924      216008       1         Cash loans      M   N     Y             0   \n",
       "99932      216017       1         Cash loans      F   N     N             0   \n",
       "\n",
       "       AMT_INCOME_TOTAL  AMT_CREDIT  AMT_GOODS_PRICE  ... DAYS_EMPLOYED  \\\n",
       "0              202500.0    406597.5         351000.0  ...          -637   \n",
       "40             202500.0   1193580.0         855000.0  ...         -1262   \n",
       "110            157500.0    723996.0         585000.0  ...          -267   \n",
       "138            292500.0    675000.0         675000.0  ...          -200   \n",
       "163            111915.0    225000.0         225000.0  ...          -150   \n",
       "...                 ...         ...              ...  ...           ...   \n",
       "99753          180000.0   1125000.0        1125000.0  ...         -1291   \n",
       "99857          157500.0    225000.0         225000.0  ...          -612   \n",
       "99884           67500.0    215640.0         180000.0  ...          -644   \n",
       "99924          247500.0    509400.0         450000.0  ...          -586   \n",
       "99932          180000.0    485640.0         450000.0  ...          -767   \n",
       "\n",
       "      MOBILE WORK_PHONE HOME_PHONE  MOBILE_REACHABLE  FLAG_EMAIL  \\\n",
       "0          1          1          0                 1           0   \n",
       "40         1          1          0                 1           0   \n",
       "110        1          1          0                 1           0   \n",
       "138        1          1          1                 1           0   \n",
       "163        1          1          1                 1           0   \n",
       "...      ...        ...        ...               ...         ...   \n",
       "99753      1          1          1                 1           1   \n",
       "99857      1          1          0                 1           0   \n",
       "99884      1          1          1                 1           0   \n",
       "99924      1          1          0                 1           0   \n",
       "99932      1          1          1                 1           0   \n",
       "\n",
       "       OCCUPATION_TYPE  CNT_FAM_MEMBERS  APPLICATION_DAY  TOTAL_DOC_SUBMITTED  \n",
       "0             Laborers              1.0        WEDNESDAY                    1  \n",
       "40            Laborers              2.0          TUESDAY                    1  \n",
       "110        Sales staff              2.0           SUNDAY                    1  \n",
       "138           Managers              2.0           FRIDAY                    1  \n",
       "163         Core staff              1.0           FRIDAY                    0  \n",
       "...                ...              ...              ...                  ...  \n",
       "99753              NaN              2.0         THURSDAY                    1  \n",
       "99857          Drivers              2.0         THURSDAY                    1  \n",
       "99884              NaN              2.0           MONDAY                    1  \n",
       "99924              NaN              1.0           FRIDAY                    1  \n",
       "99932      Sales staff              2.0           FRIDAY                    1  \n",
       "\n",
       "[4008 rows x 24 columns]"
      ]
     },
     "execution_count": 86,
     "metadata": {},
     "output_type": "execute_result"
    }
   ],
   "source": [
    "year2=not_pay[abs(not_pay['DAYS_EMPLOYED'])<=1460]\n",
    "year2"
   ]
  },
  {
   "cell_type": "code",
   "execution_count": 95,
   "id": "95b83ca7",
   "metadata": {},
   "outputs": [
    {
     "data": {
      "text/plain": [
       "8093"
      ]
     },
     "execution_count": 95,
     "metadata": {},
     "output_type": "execute_result"
    }
   ],
   "source": [
    "y=not_pay.shape[0]\n",
    "y"
   ]
  },
  {
   "cell_type": "code",
   "execution_count": 96,
   "id": "2732c1b8",
   "metadata": {},
   "outputs": [
    {
     "data": {
      "text/plain": [
       "4008"
      ]
     },
     "execution_count": 96,
     "metadata": {},
     "output_type": "execute_result"
    }
   ],
   "source": [
    "z=year2.shape[0]\n",
    "z"
   ]
  },
  {
   "cell_type": "code",
   "execution_count": 97,
   "id": "0a9c987f",
   "metadata": {},
   "outputs": [],
   "source": [
    "x=(z/y)*100"
   ]
  },
  {
   "cell_type": "code",
   "execution_count": 100,
   "id": "7804b360",
   "metadata": {},
   "outputs": [
    {
     "data": {
      "text/plain": [
       "49.52"
      ]
     },
     "execution_count": 100,
     "metadata": {},
     "output_type": "execute_result"
    }
   ],
   "source": [
    "round((x),2)"
   ]
  },
  {
   "cell_type": "markdown",
   "id": "f18fd5cf",
   "metadata": {},
   "source": [
    "#### Interpretation: There are 50% of client have difficulties to pay loans whose work Experince is between 1 year to 4 years"
   ]
  },
  {
   "cell_type": "code",
   "execution_count": null,
   "id": "f769a45f",
   "metadata": {},
   "outputs": [],
   "source": []
  }
 ],
 "metadata": {
  "kernelspec": {
   "display_name": "Python 3 (ipykernel)",
   "language": "python",
   "name": "python3"
  },
  "language_info": {
   "codemirror_mode": {
    "name": "ipython",
    "version": 3
   },
   "file_extension": ".py",
   "mimetype": "text/x-python",
   "name": "python",
   "nbconvert_exporter": "python",
   "pygments_lexer": "ipython3",
   "version": "3.9.12"
  }
 },
 "nbformat": 4,
 "nbformat_minor": 5
}
